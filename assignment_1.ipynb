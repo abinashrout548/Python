{
 "cells": [
  {
   "cell_type": "code",
   "execution_count": 7,
   "id": "01afdaa2",
   "metadata": {},
   "outputs": [],
   "source": [
    "##Q_1.In the below elements which of them are values or an expression? eg:- values can be integer or string and expressions will be mathematical operators.\n",
    "    \n",
    "Values = 'hello'\n",
    "\n",
    "Expression =(\" * \", -87.8 ,\" - \", \"/ \", \" + \", 6 )"
   ]
  },
  {
   "cell_type": "code",
   "execution_count": 12,
   "id": "540d0c98",
   "metadata": {},
   "outputs": [],
   "source": [
    "##.Q_2.. What is the difference between string and variable?\n",
    "\n",
    "string = \"string is a value that representing text in double quotes or single quotes.\"\n",
    "\n",
    "variable =\" A variable is a name that can refer to any value and every value has a different datatype like List, Tuple, String, Dictionary etc.\"  "
   ]
  },
  {
   "cell_type": "code",
   "execution_count": 23,
   "id": "8573ec6a",
   "metadata": {},
   "outputs": [
    {
     "ename": "IndentationError",
     "evalue": "unexpected indent (<ipython-input-23-bee854d72c3b>, line 3)",
     "output_type": "error",
     "traceback": [
      "\u001b[1;36m  File \u001b[1;32m\"<ipython-input-23-bee854d72c3b>\"\u001b[1;36m, line \u001b[1;32m3\u001b[0m\n\u001b[1;33m    String = \"The string is a sequences of Unicode characters or a string may be a collection of 1 or more character put during a quotational mark, double quate. It ca be representred using asn str class.\"\u001b[0m\n\u001b[1;37m    ^\u001b[0m\n\u001b[1;31mIndentationError\u001b[0m\u001b[1;31m:\u001b[0m unexpected indent\n"
     ]
    }
   ],
   "source": [
    "#3.Describe three different data types.\n",
    "\n",
    "a.String  \n",
    "    #\"The string is a sequences of Unicode characters or a string may be a collection of 1 or more character put during a quotational mark, double quate. It ca be representred using asn str class.\"\n",
    "\n",
    "b. Tuple\n",
    "   #(\"A tuple is defined as an orderd collection of python objects. Tuple are immutable it can't be modified after it's created, it is represented by tuple class.\")\n",
    "\n",
    "\n",
    "c. List\n",
    "   #\" A list is created by placing all the item or element  inside square brackets[1,2,3,5,6,'Hello'] seperated by commas, list is mutable we can modified it. \"\n"
   ]
  },
  {
   "cell_type": "code",
   "execution_count": 25,
   "id": "bec3f846",
   "metadata": {},
   "outputs": [
    {
     "name": "stdout",
     "output_type": "stream",
     "text": [
      "Object `do` not found.\n"
     ]
    }
   ],
   "source": [
    "4. What is an expression made up of? What do all expressions do?\n",
    "\n",
    "#\"An expression is a construct made up of variables, operators, and method invocations, which are constructed according to the syntax of the language, that evaluates to a single value.\""
   ]
  },
  {
   "cell_type": "code",
   "execution_count": null,
   "id": "713e1e59",
   "metadata": {},
   "outputs": [],
   "source": []
  }
 ],
 "metadata": {
  "kernelspec": {
   "display_name": "Python 3",
   "language": "python",
   "name": "python3"
  },
  "language_info": {
   "codemirror_mode": {
    "name": "ipython",
    "version": 3
   },
   "file_extension": ".py",
   "mimetype": "text/x-python",
   "name": "python",
   "nbconvert_exporter": "python",
   "pygments_lexer": "ipython3",
   "version": "3.8.8"
  }
 },
 "nbformat": 4,
 "nbformat_minor": 5
}
