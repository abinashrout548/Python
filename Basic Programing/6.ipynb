{
 "cells": [
  {
   "cell_type": "code",
   "execution_count": 7,
   "id": "8d2cd7e7",
   "metadata": {
    "scrolled": true
   },
   "outputs": [
    {
     "name": "stdout",
     "output_type": "stream",
     "text": [
      " Enter How many terms ?10\n",
      "Fibonic sequence:\n",
      "0\n",
      "1\n",
      "1\n",
      "2\n",
      "3\n",
      "5\n",
      "8\n",
      "13\n",
      "21\n",
      "34\n"
     ]
    }
   ],
   "source": [
    "##.Q._1.\tWrite a Python Program to Display Fibonacci Sequence Using Recursion?\n",
    "def recur_fibo(n):\n",
    "    if n <= 1:\n",
    "        return n\n",
    "    else:\n",
    "        return(recur_fibo(n-1) + recur_fibo(n-2))\n",
    "    \n",
    "nterms =int(input(\" Enter How many terms ?\"))\n",
    "\n",
    "if nterms <= 0:\n",
    "    print(\"Please Enter a positive integer\")\n",
    "else:\n",
    "    print('Fibonic sequence:')\n",
    "        \n",
    "    for i in range(nterms):\n",
    "        print(recur_fibo(i))"
   ]
  },
  {
   "cell_type": "code",
   "execution_count": 10,
   "id": "f03d68e5",
   "metadata": {},
   "outputs": [
    {
     "name": "stdout",
     "output_type": "stream",
     "text": [
      "Enter user input:7\n",
      "The factorisl of  7 is 5040\n"
     ]
    }
   ],
   "source": [
    "##.Q._2.\tWrite a Python Program to Find Factorial of Number Using Recursion?\n",
    "def recur_factorial(n):\n",
    "    if n == 1:\n",
    "        return n\n",
    "    else:\n",
    "        return n*recur_factorial(n-1)\n",
    "num = int(input(\"Enter user input:\"))\n",
    "if num < 0:\n",
    "    print(\"sorry, factorial does not exit for negative numbers\")\n",
    "elif num == 0:\n",
    "    print(\"factoria is 1\")\n",
    "else:\n",
    "    print(\"The factorisl of \", num, \"is\",recur_factorial(num))"
   ]
  },
  {
   "cell_type": "code",
   "execution_count": 15,
   "id": "38175509",
   "metadata": {},
   "outputs": [
    {
     "name": "stdout",
     "output_type": "stream",
     "text": [
      "Enter your height in feet:5.11\n",
      "Enter your weight in kilogram:67\n",
      "Your Body Mass index is: 2.57\n"
     ]
    }
   ],
   "source": [
    "##.Q._3.\tWrite a Python Program to calculate your Body Mass Index?\n",
    "height = float(input(\"Enter your height in feet:\"))\n",
    "weight = float(input(\"Enter your weight in kilogram:\"))\n",
    "print(\"Your Body Mass index is:\",round(weight/(height*height),2))"
   ]
  },
  {
   "cell_type": "code",
   "execution_count": 1,
   "id": "26fff35d",
   "metadata": {},
   "outputs": [
    {
     "name": "stdout",
     "output_type": "stream",
     "text": [
      "Natural logarithm of 14 is: 2.6390573296152584\n",
      "Natural logarithm base 5 of 14 is 1.6397385131955606\n"
     ]
    }
   ],
   "source": [
    "##.Q._4.\tWrite a Python Program to calculate the natural logarithm of any number?\n",
    "import math\n",
    "print(\"Natural logarithm of 14 is:\",end=\" \")\n",
    "print(math.log(14))\n",
    "print(\"Natural logarithm base 5 of 14 is\",end=\" \")\n",
    "print(math.log(14,5))"
   ]
  },
  {
   "cell_type": "code",
   "execution_count": 2,
   "id": "df46437b",
   "metadata": {},
   "outputs": [
    {
     "name": "stdout",
     "output_type": "stream",
     "text": [
      "225\n"
     ]
    }
   ],
   "source": [
    "##.Q._5.\tWrite a Python Program for cube sum of first n natural numbers?\n",
    "n =5\n",
    "def sumofseries(n):\n",
    "    sum = 0\n",
    "    for i in range(1,n+1):\n",
    "        sum += i*i*i\n",
    "    return sum\n",
    "print(sumofseries(n))"
   ]
  },
  {
   "cell_type": "code",
   "execution_count": null,
   "id": "2a9570a6",
   "metadata": {},
   "outputs": [],
   "source": []
  }
 ],
 "metadata": {
  "kernelspec": {
   "display_name": "Python 3",
   "language": "python",
   "name": "python3"
  },
  "language_info": {
   "codemirror_mode": {
    "name": "ipython",
    "version": 3
   },
   "file_extension": ".py",
   "mimetype": "text/x-python",
   "name": "python",
   "nbconvert_exporter": "python",
   "pygments_lexer": "ipython3",
   "version": "3.8.8"
  }
 },
 "nbformat": 4,
 "nbformat_minor": 5
}
