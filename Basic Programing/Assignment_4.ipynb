{
 "cells": [
  {
   "cell_type": "code",
   "execution_count": 2,
   "id": "5095caca",
   "metadata": {},
   "outputs": [
    {
     "name": "stdout",
     "output_type": "stream",
     "text": [
      "Enter user input:5\n",
      "factorial of 5.0 is 120.0\n"
     ]
    }
   ],
   "source": [
    "##Q._1.\tWrite a Python Program to Find the Factorial of a Number?\n",
    "def factorial (num):\n",
    "    return 1 if (num==0 or num==1) else num * factorial(num-1);\n",
    "num =float(input(\"Enter user input:\"))\n",
    "print(\"factorial of\",num,\"is\",factorial(num))"
   ]
  },
  {
   "cell_type": "code",
   "execution_count": 1,
   "id": "740478a2",
   "metadata": {},
   "outputs": [
    {
     "name": "stdout",
     "output_type": "stream",
     "text": [
      "Enter user input:12\n",
      "12.0 x 1 = 12.0\n",
      "12.0 x 2 = 24.0\n",
      "12.0 x 3 = 36.0\n",
      "12.0 x 4 = 48.0\n",
      "12.0 x 5 = 60.0\n",
      "12.0 x 6 = 72.0\n",
      "12.0 x 7 = 84.0\n",
      "12.0 x 8 = 96.0\n",
      "12.0 x 9 = 108.0\n",
      "12.0 x 10 = 120.0\n"
     ]
    }
   ],
   "source": [
    "##Q._2.\tWrite a Python Program to Display the multiplication Table?\n",
    "num = float(input(\"Enter user input:\"))\n",
    "for i in range(1,11):\n",
    "    print(num, 'x',i, '=',num*i)"
   ]
  },
  {
   "cell_type": "code",
   "execution_count": 6,
   "id": "94542f09",
   "metadata": {},
   "outputs": [
    {
     "name": "stdout",
     "output_type": "stream",
     "text": [
      "Enter user input:9\n",
      "34\n"
     ]
    }
   ],
   "source": [
    "##Q._3.\tWrite a Python Program to Print the Fibonacci sequence?\n",
    "n =float(input(\"Enter user input:\"))\n",
    "def Fibonacci(n):\n",
    "    if n <0:\n",
    "        print(\"incorrect input:\")\n",
    "    elif n==0:\n",
    "        return 0\n",
    "    elif n==1 or n==2:\n",
    "        return 1\n",
    "    else:\n",
    "        return Fibonacci(n-1) + Fibonacci(n-2)\n",
    "print(Fibonacci(n))"
   ]
  },
  {
   "cell_type": "code",
   "execution_count": 17,
   "id": "6e9d55ae",
   "metadata": {},
   "outputs": [
    {
     "name": "stdout",
     "output_type": "stream",
     "text": [
      "Enter user input:584\n",
      "584 is not a Armstrong number\n"
     ]
    }
   ],
   "source": [
    "##Q._4.\tWrite a Python Program to Check Armstrong Number?\n",
    "# take input from the user\n",
    "num =(int(input(\"Enter user input:\")))\n",
    "sum = 0\n",
    "# find the sum of the cube of each digit\n",
    "temp = num\n",
    "while temp > 0:\n",
    "    digit = temp % 10\n",
    "    sum += digit**3\n",
    "    temp //= 10\n",
    "if num==sum:\n",
    "    print(num, \"is a Armstrong number\")\n",
    "else:\n",
    "    print(num,\"is not a Armstrong number\")"
   ]
  },
  {
   "cell_type": "code",
   "execution_count": 21,
   "id": "cfeea34a",
   "metadata": {},
   "outputs": [
    {
     "name": "stdout",
     "output_type": "stream",
     "text": [
      "153\n",
      "370\n",
      "371\n",
      "407\n",
      "1634\n"
     ]
    }
   ],
   "source": [
    "##Q._5.\tWrite a Python Program to Find Armstrong Number in an Interval?\n",
    "start = 100\n",
    "end = 2000\n",
    "for num in range(start, end +1):\n",
    "    sum = 0\n",
    "    order =len(str(num))\n",
    "    temp = num\n",
    "    \n",
    "    while temp >0:\n",
    "        digit = temp % 10\n",
    "        sum += digit** order\n",
    "        temp //= 10\n",
    "    if num == sum:\n",
    "        print(num)"
   ]
  },
  {
   "cell_type": "code",
   "execution_count": 25,
   "id": "aab34666",
   "metadata": {},
   "outputs": [
    {
     "name": "stdout",
     "output_type": "stream",
     "text": [
      "Enter user input:16\n",
      "the sum is 136\n"
     ]
    }
   ],
   "source": [
    "##Q._6.\tWrite a Python Program to Find the Sum of Natural Numbers?\n",
    "num = int(input(\"Enter user input:\"))\n",
    "if num <0 :\n",
    "    print(\"Enter a positive no\")\n",
    "else:\n",
    "    sum = 0\n",
    "    while (num > 0):\n",
    "        sum += num\n",
    "        num -= 1\n",
    "    print(\"the sum is\", sum)"
   ]
  }
 ],
 "metadata": {
  "kernelspec": {
   "display_name": "Python 3",
   "language": "python",
   "name": "python3"
  },
  "language_info": {
   "codemirror_mode": {
    "name": "ipython",
    "version": 3
   },
   "file_extension": ".py",
   "mimetype": "text/x-python",
   "name": "python",
   "nbconvert_exporter": "python",
   "pygments_lexer": "ipython3",
   "version": "3.8.8"
  }
 },
 "nbformat": 4,
 "nbformat_minor": 5
}
