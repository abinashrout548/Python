{
 "cells": [
  {
   "cell_type": "code",
   "execution_count": 23,
   "id": "7100cfb4",
   "metadata": {},
   "outputs": [
    {
     "name": "stdout",
     "output_type": "stream",
     "text": [
      "Enter user input num1:54\n",
      "Enter user input num2:24\n",
      "The L.C.M. of  54 and 24 216\n"
     ]
    }
   ],
   "source": [
    "##Q._1.\tWrite a Python Program to Find LCM?\n",
    "def compute_lcm(x, y):\n",
    "    if x > y:\n",
    "        greater = x\n",
    "    else:\n",
    "        greater = y\n",
    "    while(True):\n",
    "        if((greater % x == 0) and (greater % y == 0)):\n",
    "            lcm = greater\n",
    "            break\n",
    "        greater += 1\n",
    "        \n",
    "    return lcm\n",
    "\n",
    "num1 =int(input(\"Enter user input num1:\"))\n",
    "num2 =int(input(\"Enter user input num2:\"))\n",
    "\n",
    "print(\"The L.C.M. of \",num1,\"and\",num2,compute_lcm(num1,num2))"
   ]
  },
  {
   "cell_type": "code",
   "execution_count": 4,
   "id": "87ee4888",
   "metadata": {},
   "outputs": [
    {
     "name": "stdout",
     "output_type": "stream",
     "text": [
      "Enter user niput for num1:8\n",
      "Enter user input for num2:12\n",
      "The H.C.F. of 8 and 12 is 4\n"
     ]
    }
   ],
   "source": [
    "##Q._2.\tWrite a Python Program to Find HCF?\n",
    "def compute_hcf(x,y):\n",
    "    if x > y:\n",
    "        smaller = y\n",
    "    else:\n",
    "        smaller = x\n",
    "    for i in range(1,smaller +1):\n",
    "        if ((x % i ==0) and (y % i ==0)):\n",
    "            hcf = i\n",
    "            \n",
    "    return hcf\n",
    "\n",
    "num1 =int(input(\"Enter user niput for num1:\"))\n",
    "num2 =int(input(\"Enter user input for num2:\"))\n",
    "\n",
    "print(\"The H.C.F. of\", num1,\"and\",num2, \"is\", compute_hcf(num1,num2))"
   ]
  },
  {
   "cell_type": "code",
   "execution_count": 5,
   "id": "dac5ef09",
   "metadata": {},
   "outputs": [
    {
     "name": "stdout",
     "output_type": "stream",
     "text": [
      "Enter user input a decimal no:344\n",
      "The decimal value of 344 is:\n",
      "0b101011000 in binary.\n",
      "0o530 in octal\n",
      "0x158 in hexadecimal.\n"
     ]
    }
   ],
   "source": [
    "##.Q._3.\tWrite a Python Program to Convert Decimal to Binary, Octal and Hexadecimal?\n",
    "dec =int(input('Enter user input a decimal no:'))\n",
    "\n",
    "print(\"The decimal value of\", dec, \"is:\")\n",
    "print(bin(dec),\"in binary.\")\n",
    "print(oct(dec),\"in octal\")\n",
    "print(hex(dec),\"in hexadecimal.\")"
   ]
  },
  {
   "cell_type": "code",
   "execution_count": 15,
   "id": "a554a464",
   "metadata": {},
   "outputs": [
    {
     "name": "stdout",
     "output_type": "stream",
     "text": [
      "Enter any character:A\n",
      "The ASCII value of 'A' is  65\n"
     ]
    }
   ],
   "source": [
    "##.Q._4.\tWrite a Python Program To Find ASCII value of a character?\n",
    "ch = input(\"Enter any character:\")\n",
    "print(\"The ASCII value of '\" + ch + \"' is \", ord(ch))"
   ]
  },
  {
   "cell_type": "code",
   "execution_count": 1,
   "id": "ba3ad335",
   "metadata": {},
   "outputs": [
    {
     "name": "stdout",
     "output_type": "stream",
     "text": [
      "Select operation.\n",
      "1.Add\n",
      "2.Substract\n",
      "3.Multiply\n",
      "4.Divide\n",
      "Enter choice(1/2/3/4):1\n",
      "Enter First number:2\n",
      "Enter Second number:3\n",
      "2.0 + 3.0 = 5.0\n",
      "let's do next calculation? (Yes/No): yes\n",
      "Enter input 👀\n",
      "Enter choice(1/2/3/4):2\n",
      "Enter First number:3\n",
      "Enter Second number:2\n",
      "3.0 - 2.0 = 1.0\n",
      "let's do next calculation? (Yes/No): no\n"
     ]
    }
   ],
   "source": [
    "##.Q._5.\tWrite a Python Program to Make a Simple Calculator with 4 basic mathematical operations?\n",
    "def add(x,y):\n",
    "    return x + y\n",
    "def substract(x,y):\n",
    "    return x - y\n",
    "def multiply(x,y):\n",
    "    return x * y\n",
    "def devide(x,y):\n",
    "    return x / y\n",
    "\n",
    "print(\"Select operation.\")\n",
    "print(\"1.Add\")\n",
    "print(\"2.Substract\")\n",
    "print(\"3.Multiply\")\n",
    "print(\"4.Divide\")\n",
    "\n",
    "while (True):\n",
    "    choice = input(\"Enter choice(1/2/3/4):\")\n",
    "    if choice in ('1','2','3','4'):\n",
    "        num1 = float(input(\"Enter First number:\"))\n",
    "        num2 = float(input(\"Enter Second number:\"))\n",
    "        \n",
    "        if choice == '1':\n",
    "            print(num1,\"+\",num2, \"=\",add(num1,num2))\n",
    "        elif choice == '2':\n",
    "            print(num1,'-',num2, '=' ,substract(num1,num2))\n",
    "        elif choice == '3':\n",
    "            print(num1,'*',num2, '=', multiply(num1,num2))\n",
    "        elif choice == '4':\n",
    "            print(num1,'/',num2, '=', devide(num1,num2))\n",
    "        next_calculation = input(\"let's do next calculation? (Yes/No): \")\n",
    "        if next_calculation == 'no':\n",
    "            break\n",
    "        else:\n",
    "            print(\"Enter input 👀\")"
   ]
  }
 ],
 "metadata": {
  "kernelspec": {
   "display_name": "Python 3",
   "language": "python",
   "name": "python3"
  },
  "language_info": {
   "codemirror_mode": {
    "name": "ipython",
    "version": 3
   },
   "file_extension": ".py",
   "mimetype": "text/x-python",
   "name": "python",
   "nbconvert_exporter": "python",
   "pygments_lexer": "ipython3",
   "version": "3.8.8"
  }
 },
 "nbformat": 4,
 "nbformat_minor": 5
}
