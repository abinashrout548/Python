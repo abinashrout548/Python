{
 "cells": [
  {
   "cell_type": "code",
   "execution_count": 1,
   "id": "1ee7e32d",
   "metadata": {},
   "outputs": [
    {
     "name": "stdout",
     "output_type": "stream",
     "text": [
      "sum of the arr is 39\n"
     ]
    }
   ],
   "source": [
    "#.Q._1.Write a Python Program to find sum of array?\n",
    "\n",
    "arr = [12,13,14]\n",
    "ans = sum(arr)\n",
    "print(\"sum of the arr is\",ans)"
   ]
  },
  {
   "cell_type": "code",
   "execution_count": 5,
   "id": "40692d22",
   "metadata": {},
   "outputs": [
    {
     "name": "stdout",
     "output_type": "stream",
     "text": [
      "Largest arry is given is 16\n"
     ]
    }
   ],
   "source": [
    "#.Q._2.Write a Python Program to find largest element in an array?\n",
    "\n",
    "def largest(arr,n):\n",
    "    max = arr[0]\n",
    "    for i in range(1,n):\n",
    "        if arr[i] > max:\n",
    "            max = arr[i]\n",
    "    return max\n",
    "arr = [12,13,14,15,16]\n",
    "n = len(arr)\n",
    "ans = largest(arr,n)\n",
    "print(\"Largest arry is given is\",ans)"
   ]
  },
  {
   "cell_type": "code",
   "execution_count": 11,
   "id": "59a1e173",
   "metadata": {},
   "outputs": [
    {
     "name": "stdout",
     "output_type": "stream",
     "text": [
      "Array after left rotation is : [3, 4, 5, 6, 7, 8, 7, 8, 1, 2]\n",
      "Array after right rotation is : [5, 6, 7, 8, 7, 8, 1, 2, 1, 2, 3, 4]\n"
     ]
    }
   ],
   "source": [
    "#.Q._3.Write a Python Program for array rotation?\n",
    "\n",
    "def rotateArray(arr,n,d):\n",
    "    temp = []\n",
    "    i = 0\n",
    "    while (i < d):\n",
    "        temp.append(arr[i])\n",
    "        i = i+1\n",
    "    i = 0\n",
    "    while (d < n):\n",
    "        arr[i] = arr[d]\n",
    "        i = i+1\n",
    "        d= d+1\n",
    "    arr[:] = arr[:] + temp\n",
    "    return arr\n",
    "arr = [1,2,3,4,5,6,7,8]\n",
    "print(\"Array after left rotation is :\", end=\" \")\n",
    "print(rotateArray(arr, len(arr), 2))\n",
    "print (\"Array after right rotation is :\", end=\" \")\n",
    "print(rotateArray(arr, len(arr), 2))"
   ]
  },
  {
   "cell_type": "code",
   "execution_count": 16,
   "id": "fb1fef19",
   "metadata": {},
   "outputs": [
    {
     "name": "stdout",
     "output_type": "stream",
     "text": [
      "13 14 15 16 17 18 12 "
     ]
    }
   ],
   "source": [
    "#.Q._4.Write a Python Program to Split the array and add the first part to the end?\n",
    "\n",
    "def splitArray(arr, n, k):\n",
    "    for i in range(0, k):\n",
    "        x = arr[0]\n",
    "        for j in range(0, n-1):\n",
    "            arr[j] = arr[j + 1]\n",
    "        \n",
    "        arr[n-1] = x\n",
    "    \n",
    "arr = [12,13,14,15,16,17,18]\n",
    "n = len(arr)\n",
    "position = 1\n",
    "splitArray(arr, n, position)\n",
    "for i in range(0, n):\n",
    "    print(arr[i], end=\" \")"
   ]
  },
  {
   "cell_type": "code",
   "execution_count": 18,
   "id": "35f016c6",
   "metadata": {},
   "outputs": [
    {
     "name": "stdout",
     "output_type": "stream",
     "text": [
      "True\n"
     ]
    }
   ],
   "source": [
    "#.Q._5.Write a Python Program to check if given array is Monotonic?\n",
    "\n",
    "def isMonotonic(A):\n",
    "    \n",
    "    return( all(A[i] <= A[i+1] for i in range(len(A) - 1)) or all(A[i] >= A[i + 1] for i in range(len(A) - 1)))\n",
    "A = [1,2,3,4,5,6,76]\n",
    "print(isMonotonic(A))"
   ]
  },
  {
   "cell_type": "code",
   "execution_count": null,
   "id": "41650722",
   "metadata": {},
   "outputs": [],
   "source": []
  }
 ],
 "metadata": {
  "kernelspec": {
   "display_name": "Python 3",
   "language": "python",
   "name": "python3"
  },
  "language_info": {
   "codemirror_mode": {
    "name": "ipython",
    "version": 3
   },
   "file_extension": ".py",
   "mimetype": "text/x-python",
   "name": "python",
   "nbconvert_exporter": "python",
   "pygments_lexer": "ipython3",
   "version": "3.8.8"
  }
 },
 "nbformat": 4,
 "nbformat_minor": 5
}
