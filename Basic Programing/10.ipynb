{
 "cells": [
  {
   "cell_type": "markdown",
   "id": "dd5fc2d8",
   "metadata": {},
   "source": [
    "# 1.\tWrite a Python program to find sum of elements in list?"
   ]
  },
  {
   "cell_type": "code",
   "execution_count": 1,
   "id": "0ca640ab",
   "metadata": {},
   "outputs": [
    {
     "name": "stdout",
     "output_type": "stream",
     "text": [
      "[12, 24, 35, 6, 65, 8, 5, 4]\n",
      "sum of list: 159\n"
     ]
    }
   ],
   "source": [
    "def sumlist(list):\n",
    "    for i in range(len(list)):\n",
    "        sum = sum+list[i]\n",
    "    return sum\n",
    "list = [12,24,35,6,65,8,5,4]\n",
    "print(list)\n",
    "print(\"sum of list:\",sum(list))"
   ]
  },
  {
   "cell_type": "markdown",
   "id": "9c6ec5fa",
   "metadata": {},
   "source": [
    "# 2.\tWrite a Python program to  Multiply all numbers in the list?"
   ]
  },
  {
   "cell_type": "code",
   "execution_count": 2,
   "id": "ceae6cd6",
   "metadata": {
    "scrolled": true
   },
   "outputs": [
    {
     "name": "stdout",
     "output_type": "stream",
     "text": [
      "the list is : [11, 12, 4, 3]\n",
      "multiplication of elements is : 1584\n"
     ]
    }
   ],
   "source": [
    "def multiplylist(list):\n",
    "    method  = 1\n",
    "    for i in list:\n",
    "        method = method * i\n",
    "    return method\n",
    "list = [11, 12, 4, 3]\n",
    "print('the list is :',list)\n",
    "print('multiplication of elements is :',multiplylist(list))"
   ]
  },
  {
   "cell_type": "markdown",
   "id": "a76e62e4",
   "metadata": {},
   "source": [
    "# 3.\tWrite a Python program to find smallest number in a list?"
   ]
  },
  {
   "cell_type": "code",
   "execution_count": 4,
   "id": "ad435c41",
   "metadata": {},
   "outputs": [
    {
     "name": "stdout",
     "output_type": "stream",
     "text": [
      "Enter number of elements in list:5\n",
      "Enter the elements:1\n",
      "Enter the elements:234\n",
      "Enter the elements:3\n",
      "Enter the elements:43\n",
      "Enter the elements:24\n",
      "smallest element is : 1\n"
     ]
    }
   ],
   "source": [
    "list = []\n",
    "num = int(input(\"Enter number of elements in list:\"))\n",
    "for i in range(1,num+1):\n",
    "    ele = int(input(\"Enter the elements:\"))\n",
    "    list.append(ele)\n",
    "print(\"smallest element is :\", min(list))"
   ]
  },
  {
   "cell_type": "markdown",
   "id": "8a6edd52",
   "metadata": {},
   "source": [
    "# 4.\tWrite a Python program to find largest number in a list?"
   ]
  },
  {
   "cell_type": "code",
   "execution_count": 5,
   "id": "fe4a31fa",
   "metadata": {},
   "outputs": [
    {
     "name": "stdout",
     "output_type": "stream",
     "text": [
      "Enter the number of elements in list :5\n",
      "Enter the elements :1\n",
      "Enter the elements :23\n",
      "Enter the elements :4\n",
      "Enter the elements :74\n",
      "Enter the elements :2\n",
      "largest number is : 74\n"
     ]
    }
   ],
   "source": [
    "list = []\n",
    "num =int(input(\"Enter the number of elements in list :\"))\n",
    "for i in range(1,num+1):\n",
    "    ele = int(input(\"Enter the elements :\"))\n",
    "    list.append(ele)\n",
    "print(\"largest number is :\", max(list))"
   ]
  },
  {
   "cell_type": "code",
   "execution_count": 6,
   "id": "25c0db1e",
   "metadata": {},
   "outputs": [
    {
     "name": "stdout",
     "output_type": "stream",
     "text": [
      "the list is : [12, 13, 2, 4, 35, 546]\n",
      "the largest number is : 546\n"
     ]
    }
   ],
   "source": [
    "list = [12,13,2,4,35,546,]\n",
    "print(\"the list is :\", list)\n",
    "print('the largest number is :',max(list))"
   ]
  },
  {
   "cell_type": "markdown",
   "id": "4dad51dc",
   "metadata": {},
   "source": [
    "# 5.\tWrite a Python program to find second largest number in a list?"
   ]
  },
  {
   "cell_type": "code",
   "execution_count": 10,
   "id": "85c8b29d",
   "metadata": {},
   "outputs": [
    {
     "name": "stdout",
     "output_type": "stream",
     "text": [
      "the list is : [12, 13, 2, 4, 35, 546]\n",
      "the second largest number is : 35\n"
     ]
    }
   ],
   "source": [
    "list = [12,13,2,4,35,546,]\n",
    "print(\"the list is :\", list)\n",
    "print('the second largest number is :',list[-2])"
   ]
  },
  {
   "cell_type": "markdown",
   "id": "866b9337",
   "metadata": {},
   "source": [
    "# 6.\tWrite a Python program to find N largest elements from a list?"
   ]
  },
  {
   "cell_type": "code",
   "execution_count": 15,
   "id": "9fcf8fa2",
   "metadata": {},
   "outputs": [
    {
     "name": "stdout",
     "output_type": "stream",
     "text": [
      "Enter the number of elements in list :5\n",
      "Enter the elements :2\n",
      "Enter the elements :23\n",
      "Enter the elements :4\n",
      "Enter the elements :25\n",
      "Enter the elements :24\n",
      "the list is : [2, 23, 4, 25, 24]\n",
      "the N largest number is : [4, 25, 24]\n"
     ]
    }
   ],
   "source": [
    "list = []\n",
    "num = int(input(\"Enter the number of elements in list :\"))\n",
    "for i in range(1,num+1):\n",
    "    ele = int(input(\"Enter the elements :\"))\n",
    "    list.append(ele)\n",
    "    \n",
    "N = 3\n",
    "print(\"the list is :\", list)\n",
    "print('the N largest number is :',list[-N:])"
   ]
  },
  {
   "cell_type": "markdown",
   "id": "23b507ae",
   "metadata": {},
   "source": [
    "# 7.\tWrite a Python program to print even numbers in a list?"
   ]
  },
  {
   "cell_type": "code",
   "execution_count": 20,
   "id": "1144e5f0",
   "metadata": {},
   "outputs": [
    {
     "name": "stdout",
     "output_type": "stream",
     "text": [
      "the even numbers are : 12\n",
      "the even numbers are : 2\n",
      "the even numbers are : 4\n",
      "the even numbers are : 6\n",
      "the given list is : [12, 2, 3, 4, 5, 6]\n"
     ]
    }
   ],
   "source": [
    "list = [12,2,3,4,5,6]\n",
    "\n",
    "for  num in list:\n",
    "    if num%2 == 0:\n",
    "        print(\"the even numbers are :\",num)\n",
    "print(\"the given list is :\",list)"
   ]
  },
  {
   "cell_type": "markdown",
   "id": "ddb0303b",
   "metadata": {},
   "source": [
    "# 8.\tWrite a Python program to print odd numbers in a List?"
   ]
  },
  {
   "cell_type": "code",
   "execution_count": 1,
   "id": "f30f59f9",
   "metadata": {},
   "outputs": [
    {
     "name": "stdout",
     "output_type": "stream",
     "text": [
      "Enter the no of elements in list :5\n",
      "Enter the elements :2\n",
      "Enter the elements :3\n",
      "Enter the elements :4\n",
      "Enter the elements :5\n",
      "Enter the elements :6\n",
      "The given ilst is : [2, 3, 4, 5, 6]\n",
      "The odd number 3\n",
      "The odd number 5\n"
     ]
    }
   ],
   "source": [
    "list = []\n",
    "num = int(input(\"Enter the no of elements in list :\"))\n",
    "\n",
    "for i in range(1,num+1):\n",
    "    ele = int(input(\"Enter the elements :\"))\n",
    "    list.append(ele)\n",
    "print(\"The given ilst is :\", list)\n",
    "\n",
    "for num in list:\n",
    "    if num%2 != 0:\n",
    "        print('The odd number',num)\n",
    "\n"
   ]
  },
  {
   "cell_type": "code",
   "execution_count": 4,
   "id": "08f14855",
   "metadata": {},
   "outputs": [
    {
     "name": "stdout",
     "output_type": "stream",
     "text": [
      "1, 23, 3, 5, 7, "
     ]
    }
   ],
   "source": [
    "list = [1, 2, 24, 23, 22,3,5,7]\n",
    "for num in list:\n",
    "    if num % 2 != 0:\n",
    "        print(num, end = ', ')"
   ]
  },
  {
   "cell_type": "markdown",
   "id": "1f2522ab",
   "metadata": {},
   "source": [
    "# 9.\tWrite a Python program to Remove empty List from List?"
   ]
  },
  {
   "cell_type": "code",
   "execution_count": 6,
   "id": "362dfefb",
   "metadata": {},
   "outputs": [
    {
     "name": "stdout",
     "output_type": "stream",
     "text": [
      "The given list is : [[1, 2, 3], [], [5, 4, 3, 2], [], [], [34, 24, 22]]\n",
      "List after empty list removal : [[1, 2, 3], [5, 4, 3, 2], [34, 24, 22]]\n"
     ]
    }
   ],
   "source": [
    "list = [[1,2,3],[],[5,4,3,2],[],[],[34,24,22]]\n",
    "res = [ele for ele in list if ele != []]\n",
    "print(\"The given list is :\", list)\n",
    "\n",
    "print (\"List after empty list removal : \" + str(res))"
   ]
  },
  {
   "cell_type": "markdown",
   "id": "d7cd20b0",
   "metadata": {},
   "source": [
    "# 10. write a Python program to Cloning or Copying a list?"
   ]
  },
  {
   "cell_type": "code",
   "execution_count": 9,
   "id": "6d6a7dfc",
   "metadata": {},
   "outputs": [
    {
     "name": "stdout",
     "output_type": "stream",
     "text": [
      "The given list : [1, 2, 24, 23, 22, 3, 5, 7]\n",
      "After Cloning : [1, 2, 24, 23, 22, 3, 5, 7]\n"
     ]
    }
   ],
   "source": [
    "def cloning(list):\n",
    "    list_copy = list[:]\n",
    "    return list_copy\n",
    "\n",
    "list = [1, 2, 24, 23, 22,3,5,7]\n",
    "\n",
    "list1 = cloning(list)\n",
    "print(\"The given list :\",list)\n",
    "print(\"After Cloning :\", list1)"
   ]
  },
  {
   "cell_type": "markdown",
   "id": "09916ac4",
   "metadata": {},
   "source": [
    "# 11.\tWrite a Python program to Count occurrences of an element in a list?"
   ]
  },
  {
   "cell_type": "code",
   "execution_count": 14,
   "id": "1b0c478d",
   "metadata": {},
   "outputs": [
    {
     "name": "stdout",
     "output_type": "stream",
     "text": [
      "Enter the number to count :12\n",
      "12 has occurred 4 times\n"
     ]
    }
   ],
   "source": [
    "def countN(list, N):\n",
    "    count = 0\n",
    "    for ele in list:\n",
    "        if (ele == N):\n",
    "            count = count+1\n",
    "    return count\n",
    "list = [12,34,12,3,2,12,2,34,3,12,3,24,5,5,67,3]\n",
    "N = int(input(\"Enter the number to count :\"))\n",
    "\n",
    "print('{} has occurred {} times'.format(N, countN(list, N)))"
   ]
  },
  {
   "cell_type": "code",
   "execution_count": null,
   "id": "05b7b594",
   "metadata": {},
   "outputs": [],
   "source": []
  }
 ],
 "metadata": {
  "kernelspec": {
   "display_name": "Python 3 (ipykernel)",
   "language": "python",
   "name": "python3"
  },
  "language_info": {
   "codemirror_mode": {
    "name": "ipython",
    "version": 3
   },
   "file_extension": ".py",
   "mimetype": "text/x-python",
   "name": "python",
   "nbconvert_exporter": "python",
   "pygments_lexer": "ipython3",
   "version": "3.8.8"
  }
 },
 "nbformat": 4,
 "nbformat_minor": 5
}
