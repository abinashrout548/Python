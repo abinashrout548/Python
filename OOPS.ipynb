{
 "cells": [
  {
   "cell_type": "code",
   "execution_count": 1,
   "id": "77e599b3",
   "metadata": {},
   "outputs": [],
   "source": [
    "# class is a classification of real world entity. it dont give the specific brand or property.(brand, bonet, tyre, engine, etc.)\n",
    "# object is a varriable of a class.\n",
    "\n"
   ]
  },
  {
   "cell_type": "code",
   "execution_count": 2,
   "id": "6245000f",
   "metadata": {},
   "outputs": [],
   "source": [
    "i = 10"
   ]
  },
  {
   "cell_type": "code",
   "execution_count": 3,
   "id": "06ab3440",
   "metadata": {},
   "outputs": [
    {
     "name": "stdout",
     "output_type": "stream",
     "text": [
      "<class 'int'>\n"
     ]
    }
   ],
   "source": [
    "print(type(i))"
   ]
  },
  {
   "cell_type": "code",
   "execution_count": 4,
   "id": "f698687a",
   "metadata": {},
   "outputs": [],
   "source": [
    "# class is a key word\n",
    "#class test:"
   ]
  },
  {
   "cell_type": "code",
   "execution_count": 5,
   "id": "3095a67f",
   "metadata": {},
   "outputs": [],
   "source": [
    "class test:\n",
    "    pass # pass keyword "
   ]
  },
  {
   "cell_type": "code",
   "execution_count": 6,
   "id": "163ddf0f",
   "metadata": {},
   "outputs": [],
   "source": [
    "class person:\n",
    "    pass"
   ]
  },
  {
   "cell_type": "code",
   "execution_count": 7,
   "id": "3a1f25d3",
   "metadata": {},
   "outputs": [],
   "source": [
    "# create a variable or object of a class\n",
    "p = person "
   ]
  },
  {
   "cell_type": "code",
   "execution_count": 8,
   "id": "c98d411a",
   "metadata": {},
   "outputs": [
    {
     "name": "stdout",
     "output_type": "stream",
     "text": [
      "<class '__main__.person'>\n"
     ]
    }
   ],
   "source": [
    "print(p)"
   ]
  },
  {
   "cell_type": "code",
   "execution_count": 9,
   "id": "aa102e2b",
   "metadata": {},
   "outputs": [],
   "source": [
    "p.name = 'abhi'\n",
    "p.surname = 'rout'\n",
    "p.yob = '1234'"
   ]
  },
  {
   "cell_type": "code",
   "execution_count": 10,
   "id": "e08eb4ec",
   "metadata": {},
   "outputs": [],
   "source": [
    "# a is also a person\n",
    "a = person\n",
    "a.name = 'asdf'\n",
    "a.surname = 'akdfjf'\n",
    "a.yob = '1212'\n",
    "a.empon = 1234"
   ]
  },
  {
   "cell_type": "code",
   "execution_count": 11,
   "id": "cf79e9f6",
   "metadata": {},
   "outputs": [
    {
     "name": "stdout",
     "output_type": "stream",
     "text": [
      "<class '__main__.person'>\n"
     ]
    }
   ],
   "source": [
    "print(person)"
   ]
  },
  {
   "cell_type": "code",
   "execution_count": 12,
   "id": "deb3b04d",
   "metadata": {},
   "outputs": [
    {
     "data": {
      "text/plain": [
       "'akdfjf'"
      ]
     },
     "execution_count": 12,
     "metadata": {},
     "output_type": "execute_result"
    }
   ],
   "source": [
    "a.surname"
   ]
  },
  {
   "cell_type": "code",
   "execution_count": 13,
   "id": "e6062490",
   "metadata": {},
   "outputs": [
    {
     "data": {
      "text/plain": [
       "'akdfjf'"
      ]
     },
     "execution_count": 13,
     "metadata": {},
     "output_type": "execute_result"
    }
   ],
   "source": [
    "p.surname"
   ]
  },
  {
   "cell_type": "code",
   "execution_count": 14,
   "id": "b095e36c",
   "metadata": {},
   "outputs": [
    {
     "data": {
      "text/plain": [
       "'1212'"
      ]
     },
     "execution_count": 14,
     "metadata": {},
     "output_type": "execute_result"
    }
   ],
   "source": [
    "p.yob"
   ]
  },
  {
   "cell_type": "code",
   "execution_count": 15,
   "id": "c7819264",
   "metadata": {},
   "outputs": [],
   "source": [
    "p = person \n",
    "p.name = 'abhi'\n",
    "p.surname = 'rout'\n",
    "p.yob = '1234'\n",
    "a = person\n",
    "a.name = 'asdf'\n",
    "a.surname = 'akdfjf'\n",
    "a.yob = '1212'\n",
    "a.empon = 1234"
   ]
  },
  {
   "cell_type": "code",
   "execution_count": 16,
   "id": "c9f3bfca",
   "metadata": {},
   "outputs": [
    {
     "data": {
      "text/plain": [
       "'asdf'"
      ]
     },
     "execution_count": 16,
     "metadata": {},
     "output_type": "execute_result"
    }
   ],
   "source": [
    "p.name #______"
   ]
  },
  {
   "cell_type": "code",
   "execution_count": 17,
   "id": "8de10783",
   "metadata": {},
   "outputs": [
    {
     "data": {
      "text/plain": [
       "str"
      ]
     },
     "execution_count": 17,
     "metadata": {},
     "output_type": "execute_result"
    }
   ],
   "source": [
    "type(p.name)"
   ]
  },
  {
   "cell_type": "code",
   "execution_count": 39,
   "id": "72b98a9a",
   "metadata": {},
   "outputs": [],
   "source": [
    "class person:\n",
    "    def __init__(self, name, surname, yob):  #__init__ default od inbuild method\n",
    "        self.name = name\n",
    "        self.surname = surname\n",
    "        self.yob = yob\n",
    "    def test(self, n,m):\n",
    "        return n+m+ self.yob"
   ]
  },
  {
   "cell_type": "code",
   "execution_count": 42,
   "id": "7c680f00",
   "metadata": {},
   "outputs": [
    {
     "ename": "TypeError",
     "evalue": "__init__() missing 3 required positional arguments: 'name', 'surname', and 'yob'",
     "output_type": "error",
     "traceback": [
      "\u001b[1;31m---------------------------------------------------------------------------\u001b[0m",
      "\u001b[1;31mTypeError\u001b[0m                                 Traceback (most recent call last)",
      "\u001b[1;32mC:\\Users\\ABINAS~1\\AppData\\Local\\Temp/ipykernel_3952/4072922939.py\u001b[0m in \u001b[0;36m<module>\u001b[1;34m\u001b[0m\n\u001b[1;32m----> 1\u001b[1;33m \u001b[0mp\u001b[0m \u001b[1;33m=\u001b[0m \u001b[0mperson\u001b[0m\u001b[1;33m(\u001b[0m\u001b[1;33m)\u001b[0m\u001b[1;33m\u001b[0m\u001b[1;33m\u001b[0m\u001b[0m\n\u001b[0m",
      "\u001b[1;31mTypeError\u001b[0m: __init__() missing 3 required positional arguments: 'name', 'surname', and 'yob'"
     ]
    }
   ],
   "source": [
    "p = person()\n"
   ]
  },
  {
   "cell_type": "code",
   "execution_count": 41,
   "id": "4d64c1df",
   "metadata": {},
   "outputs": [],
   "source": [
    "p =  person('abhi', 'rout', 1234)"
   ]
  },
  {
   "cell_type": "code",
   "execution_count": 21,
   "id": "3d2414cb",
   "metadata": {},
   "outputs": [
    {
     "name": "stdout",
     "output_type": "stream",
     "text": [
      "<__main__.person object at 0x00000220390EEC10>\n"
     ]
    }
   ],
   "source": [
    "print(p)"
   ]
  },
  {
   "cell_type": "code",
   "execution_count": 22,
   "id": "1ebb8c23",
   "metadata": {},
   "outputs": [],
   "source": [
    "s = person('abc','aadhd',123234)"
   ]
  },
  {
   "cell_type": "code",
   "execution_count": 23,
   "id": "e9921f35",
   "metadata": {},
   "outputs": [
    {
     "data": {
      "text/plain": [
       "'abc'"
      ]
     },
     "execution_count": 23,
     "metadata": {},
     "output_type": "execute_result"
    }
   ],
   "source": [
    "s.name"
   ]
  },
  {
   "cell_type": "code",
   "execution_count": 24,
   "id": "c5320b28",
   "metadata": {},
   "outputs": [
    {
     "data": {
      "text/plain": [
       "'abhi'"
      ]
     },
     "execution_count": 24,
     "metadata": {},
     "output_type": "execute_result"
    }
   ],
   "source": [
    "p.name"
   ]
  },
  {
   "cell_type": "code",
   "execution_count": 25,
   "id": "f61ed7fc",
   "metadata": {},
   "outputs": [],
   "source": [
    "class person:\n",
    "    \n",
    "    def __init__(self, name, surname, yob):\n",
    "        self.name= name\n",
    "        self.surname = surname\n",
    "        self.yob = yob\n",
    "        \n",
    "    def test(self, n,m):\n",
    "        return n+m+ self.yob\n",
    "    "
   ]
  },
  {
   "cell_type": "code",
   "execution_count": 26,
   "id": "a78e52e1",
   "metadata": {},
   "outputs": [],
   "source": [
    "p = person('abhi','rout',1234)\n"
   ]
  },
  {
   "cell_type": "code",
   "execution_count": 27,
   "id": "fec2029f",
   "metadata": {},
   "outputs": [
    {
     "data": {
      "text/plain": [
       "1289"
      ]
     },
     "execution_count": 27,
     "metadata": {},
     "output_type": "execute_result"
    }
   ],
   "source": [
    "p.test(23,32)"
   ]
  },
  {
   "cell_type": "code",
   "execution_count": 28,
   "id": "686503c1",
   "metadata": {},
   "outputs": [],
   "source": [
    "s = person('asd','adw',123)"
   ]
  },
  {
   "cell_type": "code",
   "execution_count": 29,
   "id": "4d5ffc7e",
   "metadata": {},
   "outputs": [
    {
     "data": {
      "text/plain": [
       "1280"
      ]
     },
     "execution_count": 29,
     "metadata": {},
     "output_type": "execute_result"
    }
   ],
   "source": [
    "p.test(12,34)"
   ]
  },
  {
   "cell_type": "code",
   "execution_count": 30,
   "id": "e2a1dee1",
   "metadata": {},
   "outputs": [
    {
     "name": "stdout",
     "output_type": "stream",
     "text": [
      "<__main__.person object at 0x00000220390EEAF0>\n"
     ]
    }
   ],
   "source": [
    "print(p)"
   ]
  },
  {
   "cell_type": "code",
   "execution_count": 47,
   "id": "66db15f3",
   "metadata": {},
   "outputs": [],
   "source": [
    "class person:\n",
    "    def __init__(self, name, surname, yob):\n",
    "        self.name=name\n",
    "        self.surname=surname\n",
    "        self.yob=yob\n",
    "        \n",
    "    def test(self, n, m):\n",
    "        return n+m+ self.yob\n",
    "    \n",
    "    "
   ]
  },
  {
   "cell_type": "code",
   "execution_count": 48,
   "id": "8929c15c",
   "metadata": {},
   "outputs": [],
   "source": [
    "p = person(\"abhi\",'rout',23)\n"
   ]
  },
  {
   "cell_type": "code",
   "execution_count": 55,
   "id": "de3b4a8e",
   "metadata": {},
   "outputs": [
    {
     "name": "stdout",
     "output_type": "stream",
     "text": [
      "<__main__.person object at 0x00000220390EEF70>\n"
     ]
    }
   ],
   "source": [
    "print(p)"
   ]
  },
  {
   "cell_type": "code",
   "execution_count": 38,
   "id": "e80de33c",
   "metadata": {},
   "outputs": [
    {
     "data": {
      "text/plain": [
       "'abhi'"
      ]
     },
     "execution_count": 38,
     "metadata": {},
     "output_type": "execute_result"
    }
   ],
   "source": [
    "p.name"
   ]
  },
  {
   "cell_type": "code",
   "execution_count": 49,
   "id": "f42f766e",
   "metadata": {},
   "outputs": [
    {
     "data": {
      "text/plain": [
       "28"
      ]
     },
     "execution_count": 49,
     "metadata": {},
     "output_type": "execute_result"
    }
   ],
   "source": [
    "p.test(1,4)"
   ]
  },
  {
   "cell_type": "code",
   "execution_count": 50,
   "id": "272931ac",
   "metadata": {},
   "outputs": [],
   "source": [
    "s = person('aad','ASD',23)"
   ]
  },
  {
   "cell_type": "code",
   "execution_count": 52,
   "id": "8f0b11d1",
   "metadata": {},
   "outputs": [
    {
     "data": {
      "text/plain": [
       "'aad'"
      ]
     },
     "execution_count": 52,
     "metadata": {},
     "output_type": "execute_result"
    }
   ],
   "source": [
    "s.name"
   ]
  },
  {
   "cell_type": "code",
   "execution_count": 53,
   "id": "ed790383",
   "metadata": {},
   "outputs": [
    {
     "data": {
      "text/plain": [
       "26"
      ]
     },
     "execution_count": 53,
     "metadata": {},
     "output_type": "execute_result"
    }
   ],
   "source": [
    "s.test(1,2)"
   ]
  },
  {
   "cell_type": "code",
   "execution_count": 54,
   "id": "bf3cf002",
   "metadata": {},
   "outputs": [
    {
     "data": {
      "text/plain": [
       "23"
      ]
     },
     "execution_count": 54,
     "metadata": {},
     "output_type": "execute_result"
    }
   ],
   "source": [
    "s.yob"
   ]
  },
  {
   "cell_type": "code",
   "execution_count": 62,
   "id": "297c66dd",
   "metadata": {},
   "outputs": [],
   "source": [
    "class person:\n",
    "    \n",
    "    def __init__(self, name, surname, yob):\n",
    "        self.name= name\n",
    "        self.surname = surname\n",
    "        self.yob = yob\n",
    "        \n",
    "    def test(self, n,m):\n",
    "        return n+m+ self.yob\n",
    "    def __str__(self):\n",
    "        return 1\n",
    "        return \"my name is\""
   ]
  },
  {
   "cell_type": "code",
   "execution_count": 63,
   "id": "4dec3846",
   "metadata": {},
   "outputs": [],
   "source": [
    "p = person('abhi', 'rout', 12)"
   ]
  },
  {
   "cell_type": "code",
   "execution_count": 64,
   "id": "c5d72d89",
   "metadata": {},
   "outputs": [
    {
     "ename": "TypeError",
     "evalue": "__str__ returned non-string (type int)",
     "output_type": "error",
     "traceback": [
      "\u001b[1;31m---------------------------------------------------------------------------\u001b[0m",
      "\u001b[1;31mTypeError\u001b[0m                                 Traceback (most recent call last)",
      "\u001b[1;32mC:\\Users\\ABINAS~1\\AppData\\Local\\Temp/ipykernel_3952/2760057919.py\u001b[0m in \u001b[0;36m<module>\u001b[1;34m\u001b[0m\n\u001b[1;32m----> 1\u001b[1;33m \u001b[0mprint\u001b[0m\u001b[1;33m(\u001b[0m\u001b[0mp\u001b[0m\u001b[1;33m)\u001b[0m\u001b[1;33m\u001b[0m\u001b[1;33m\u001b[0m\u001b[0m\n\u001b[0m",
      "\u001b[1;31mTypeError\u001b[0m: __str__ returned non-string (type int)"
     ]
    }
   ],
   "source": [
    "print(p) "
   ]
  },
  {
   "cell_type": "code",
   "execution_count": 4,
   "id": "30e4a799",
   "metadata": {},
   "outputs": [],
   "source": [
    "class person:\n",
    "    \n",
    "    def __init__(self, name, surname, yob):\n",
    "        self.name= name\n",
    "        self.surname = surname\n",
    "        self.yob = yob\n",
    "        \n",
    "    def test(self, n,m):\n",
    "        return n+m+ self.yob\n",
    "    def __str__(self):\n",
    "        return \"my name is\""
   ]
  },
  {
   "cell_type": "code",
   "execution_count": 5,
   "id": "e1bcbcd9",
   "metadata": {},
   "outputs": [],
   "source": [
    "p = person('abhi', 'rout',12)"
   ]
  },
  {
   "cell_type": "code",
   "execution_count": 6,
   "id": "43a83af0",
   "metadata": {},
   "outputs": [
    {
     "name": "stdout",
     "output_type": "stream",
     "text": [
      "my name is\n"
     ]
    }
   ],
   "source": [
    "print(p)"
   ]
  },
  {
   "cell_type": "markdown",
   "id": "7e7c3928",
   "metadata": {},
   "source": [
    "# Method 1"
   ]
  },
  {
   "cell_type": "code",
   "execution_count": 7,
   "id": "eb839952",
   "metadata": {},
   "outputs": [],
   "source": [
    "class person:\n",
    "    \n",
    "    def __init__(self, name, surname, yob):\n",
    "        self.name= name\n",
    "        self.surname = surname\n",
    "        self.yob = yob\n",
    "        \n",
    "    def test(self, n,m):\n",
    "        return n+m+ self.yob\n",
    "    def __str__(self):\n",
    "        return \"%s is a first name and its sur name is %s and year of birth is %d \" %(self.name, self.surname, self.yob) "
   ]
  },
  {
   "cell_type": "code",
   "execution_count": 8,
   "id": "21a98dbd",
   "metadata": {},
   "outputs": [],
   "source": [
    "p = person('abhi','rout',12)"
   ]
  },
  {
   "cell_type": "code",
   "execution_count": 11,
   "id": "6b6ccc6a",
   "metadata": {},
   "outputs": [],
   "source": [
    "s = person('as','ad',13)"
   ]
  },
  {
   "cell_type": "code",
   "execution_count": 12,
   "id": "34d20998",
   "metadata": {},
   "outputs": [
    {
     "data": {
      "text/plain": [
       "<__main__.person at 0x2722d6277f0>"
      ]
     },
     "execution_count": 12,
     "metadata": {},
     "output_type": "execute_result"
    }
   ],
   "source": [
    "p"
   ]
  },
  {
   "cell_type": "code",
   "execution_count": 13,
   "id": "4a4effd1",
   "metadata": {},
   "outputs": [
    {
     "name": "stdout",
     "output_type": "stream",
     "text": [
      "abhi is a first name and its sur name is rout and year of birth is 12 \n",
      "as is a first name and its sur name is ad and year of birth is 13 \n"
     ]
    }
   ],
   "source": [
    "print(p)\n",
    "print(s)"
   ]
  },
  {
   "cell_type": "code",
   "execution_count": 14,
   "id": "6f70e278",
   "metadata": {},
   "outputs": [],
   "source": [
    "class test:\n",
    "    pass"
   ]
  },
  {
   "cell_type": "code",
   "execution_count": 16,
   "id": "9b10b1ae",
   "metadata": {},
   "outputs": [],
   "source": [
    "p = test()\n",
    "p.name = 'abhi'\n",
    "p.surname = 'rout'\n",
    "p.yob = 123"
   ]
  },
  {
   "cell_type": "code",
   "execution_count": 17,
   "id": "75d54576",
   "metadata": {},
   "outputs": [
    {
     "name": "stdout",
     "output_type": "stream",
     "text": [
      "<__main__.test object at 0x000002722D79D520>\n"
     ]
    }
   ],
   "source": [
    "print(p)"
   ]
  },
  {
   "cell_type": "code",
   "execution_count": 18,
   "id": "f3a17823",
   "metadata": {},
   "outputs": [
    {
     "data": {
      "text/plain": [
       "'abhi'"
      ]
     },
     "execution_count": 18,
     "metadata": {},
     "output_type": "execute_result"
    }
   ],
   "source": [
    "p.name"
   ]
  },
  {
   "cell_type": "code",
   "execution_count": 20,
   "id": "4d089942",
   "metadata": {},
   "outputs": [],
   "source": [
    "s = test ()\n",
    "s.name = 'asd'"
   ]
  },
  {
   "cell_type": "code",
   "execution_count": 21,
   "id": "29bed10a",
   "metadata": {},
   "outputs": [
    {
     "data": {
      "text/plain": [
       "'asd'"
      ]
     },
     "execution_count": 21,
     "metadata": {},
     "output_type": "execute_result"
    }
   ],
   "source": [
    "s.name"
   ]
  },
  {
   "cell_type": "code",
   "execution_count": 22,
   "id": "44d523a4",
   "metadata": {},
   "outputs": [
    {
     "data": {
      "text/plain": [
       "'abhi'"
      ]
     },
     "execution_count": 22,
     "metadata": {},
     "output_type": "execute_result"
    }
   ],
   "source": [
    "p.name"
   ]
  },
  {
   "cell_type": "code",
   "execution_count": 31,
   "id": "c46e2bd7",
   "metadata": {},
   "outputs": [],
   "source": [
    "class person:\n",
    "    def pass_name(self, name):\n",
    "        self.name = name\n",
    "        \n",
    "    def pass_surname(self, surname):\n",
    "        self.surname = surname\n",
    "    \n",
    "    def pass_yob(self,yob):\n",
    "        self.yob = yob\n"
   ]
  },
  {
   "cell_type": "code",
   "execution_count": 43,
   "id": "b4c71aac",
   "metadata": {},
   "outputs": [],
   "source": [
    "p = person()"
   ]
  },
  {
   "cell_type": "code",
   "execution_count": 44,
   "id": "f88dd69a",
   "metadata": {},
   "outputs": [],
   "source": [
    "p.pass_name('abhi')\n",
    "p.pass_surname('rout')\n",
    "p.pass_yob('28')"
   ]
  },
  {
   "cell_type": "code",
   "execution_count": 45,
   "id": "8162718d",
   "metadata": {},
   "outputs": [
    {
     "data": {
      "text/plain": [
       "'abhi'"
      ]
     },
     "execution_count": 45,
     "metadata": {},
     "output_type": "execute_result"
    }
   ],
   "source": [
    "p.name"
   ]
  },
  {
   "cell_type": "code",
   "execution_count": 46,
   "id": "d63298ff",
   "metadata": {},
   "outputs": [
    {
     "data": {
      "text/plain": [
       "'rout'"
      ]
     },
     "execution_count": 46,
     "metadata": {},
     "output_type": "execute_result"
    }
   ],
   "source": [
    "p.surname"
   ]
  },
  {
   "cell_type": "code",
   "execution_count": 47,
   "id": "fb828ad1",
   "metadata": {},
   "outputs": [
    {
     "data": {
      "text/plain": [
       "'28'"
      ]
     },
     "execution_count": 47,
     "metadata": {},
     "output_type": "execute_result"
    }
   ],
   "source": [
    "p.yob\n"
   ]
  },
  {
   "cell_type": "code",
   "execution_count": 48,
   "id": "c447e426",
   "metadata": {},
   "outputs": [
    {
     "ename": "TypeError",
     "evalue": "person() takes no arguments",
     "output_type": "error",
     "traceback": [
      "\u001b[1;31m---------------------------------------------------------------------------\u001b[0m",
      "\u001b[1;31mTypeError\u001b[0m                                 Traceback (most recent call last)",
      "\u001b[1;32mC:\\Users\\ABINAS~1\\AppData\\Local\\Temp/ipykernel_23060/907775819.py\u001b[0m in \u001b[0;36m<module>\u001b[1;34m\u001b[0m\n\u001b[1;32m----> 1\u001b[1;33m \u001b[0ms\u001b[0m\u001b[1;33m=\u001b[0m \u001b[0mperson\u001b[0m\u001b[1;33m(\u001b[0m\u001b[1;34m\"as\"\u001b[0m\u001b[1;33m,\u001b[0m\u001b[1;34m\"asd\"\u001b[0m\u001b[1;33m,\u001b[0m\u001b[1;36m12\u001b[0m\u001b[1;33m)\u001b[0m\u001b[1;33m\u001b[0m\u001b[1;33m\u001b[0m\u001b[0m\n\u001b[0m",
      "\u001b[1;31mTypeError\u001b[0m: person() takes no arguments"
     ]
    }
   ],
   "source": [
    "s= person(\"as\",\"asd\",12)"
   ]
  },
  {
   "cell_type": "code",
   "execution_count": 49,
   "id": "51ed794d",
   "metadata": {},
   "outputs": [
    {
     "ename": "AttributeError",
     "evalue": "'test' object has no attribute 'test'",
     "output_type": "error",
     "traceback": [
      "\u001b[1;31m---------------------------------------------------------------------------\u001b[0m",
      "\u001b[1;31mAttributeError\u001b[0m                            Traceback (most recent call last)",
      "\u001b[1;32mC:\\Users\\ABINAS~1\\AppData\\Local\\Temp/ipykernel_23060/3041318691.py\u001b[0m in \u001b[0;36m<module>\u001b[1;34m\u001b[0m\n\u001b[1;32m----> 1\u001b[1;33m \u001b[0ms\u001b[0m\u001b[1;33m.\u001b[0m\u001b[0mtest\u001b[0m\u001b[1;33m(\u001b[0m\u001b[1;36m12\u001b[0m\u001b[1;33m,\u001b[0m\u001b[1;36m2\u001b[0m\u001b[1;33m)\u001b[0m\u001b[1;33m\u001b[0m\u001b[1;33m\u001b[0m\u001b[0m\n\u001b[0m",
      "\u001b[1;31mAttributeError\u001b[0m: 'test' object has no attribute 'test'"
     ]
    }
   ],
   "source": [
    "s.test(12,2)"
   ]
  },
  {
   "cell_type": "code",
   "execution_count": 42,
   "id": "68ac1f0b",
   "metadata": {},
   "outputs": [
    {
     "ename": "AttributeError",
     "evalue": "'person' object has no attribute 'test'",
     "output_type": "error",
     "traceback": [
      "\u001b[1;31m---------------------------------------------------------------------------\u001b[0m",
      "\u001b[1;31mAttributeError\u001b[0m                            Traceback (most recent call last)",
      "\u001b[1;32mC:\\Users\\ABINAS~1\\AppData\\Local\\Temp/ipykernel_23060/688925232.py\u001b[0m in \u001b[0;36m<module>\u001b[1;34m\u001b[0m\n\u001b[1;32m----> 1\u001b[1;33m \u001b[0mp\u001b[0m\u001b[1;33m.\u001b[0m\u001b[0mtest\u001b[0m\u001b[1;33m(\u001b[0m\u001b[1;36m1\u001b[0m\u001b[1;33m,\u001b[0m\u001b[1;36m2\u001b[0m\u001b[1;33m)\u001b[0m\u001b[1;33m\u001b[0m\u001b[1;33m\u001b[0m\u001b[0m\n\u001b[0m",
      "\u001b[1;31mAttributeError\u001b[0m: 'person' object has no attribute 'test'"
     ]
    }
   ],
   "source": [
    "p.test(1,2)"
   ]
  },
  {
   "cell_type": "markdown",
   "id": "9bed732b",
   "metadata": {},
   "source": [
    "# Method 2"
   ]
  },
  {
   "cell_type": "code",
   "execution_count": 50,
   "id": "2f54d9cc",
   "metadata": {},
   "outputs": [],
   "source": [
    "class test:\n",
    "    pass"
   ]
  },
  {
   "cell_type": "code",
   "execution_count": 51,
   "id": "0f2c0f68",
   "metadata": {},
   "outputs": [],
   "source": [
    "p = test()\n",
    "p.name = 'erty'\n",
    "p.surname = \"fghjk\"\n",
    "p.yob = 28"
   ]
  },
  {
   "cell_type": "code",
   "execution_count": 52,
   "id": "4ea687d5",
   "metadata": {},
   "outputs": [
    {
     "data": {
      "text/plain": [
       "'erty'"
      ]
     },
     "execution_count": 52,
     "metadata": {},
     "output_type": "execute_result"
    }
   ],
   "source": [
    "p.name"
   ]
  },
  {
   "cell_type": "code",
   "execution_count": 53,
   "id": "dd825959",
   "metadata": {},
   "outputs": [],
   "source": [
    "s = person()"
   ]
  },
  {
   "cell_type": "code",
   "execution_count": 54,
   "id": "2747f765",
   "metadata": {},
   "outputs": [],
   "source": [
    "s.name = 'xc'"
   ]
  },
  {
   "cell_type": "code",
   "execution_count": 55,
   "id": "150eb2f6",
   "metadata": {},
   "outputs": [
    {
     "data": {
      "text/plain": [
       "'xc'"
      ]
     },
     "execution_count": 55,
     "metadata": {},
     "output_type": "execute_result"
    }
   ],
   "source": [
    "s.name"
   ]
  },
  {
   "cell_type": "code",
   "execution_count": 56,
   "id": "17a3461d",
   "metadata": {},
   "outputs": [
    {
     "data": {
      "text/plain": [
       "'erty'"
      ]
     },
     "execution_count": 56,
     "metadata": {},
     "output_type": "execute_result"
    }
   ],
   "source": [
    "p.name"
   ]
  },
  {
   "cell_type": "code",
   "execution_count": 57,
   "id": "de26abc2",
   "metadata": {},
   "outputs": [],
   "source": [
    "d = person()\n",
    "d.name = 'lk'"
   ]
  },
  {
   "cell_type": "code",
   "execution_count": 58,
   "id": "1e788e60",
   "metadata": {},
   "outputs": [
    {
     "data": {
      "text/plain": [
       "'lk'"
      ]
     },
     "execution_count": 58,
     "metadata": {},
     "output_type": "execute_result"
    }
   ],
   "source": [
    "d.name"
   ]
  },
  {
   "cell_type": "code",
   "execution_count": 63,
   "id": "73ffa85e",
   "metadata": {},
   "outputs": [
    {
     "data": {
      "text/plain": [
       "'xc'"
      ]
     },
     "execution_count": 63,
     "metadata": {},
     "output_type": "execute_result"
    }
   ],
   "source": [
    "\n",
    "s.name\n"
   ]
  },
  {
   "cell_type": "markdown",
   "id": "fd5cc694",
   "metadata": {},
   "source": [
    "# Method 3"
   ]
  },
  {
   "cell_type": "code",
   "execution_count": 64,
   "id": "3e95ccf6",
   "metadata": {},
   "outputs": [],
   "source": [
    "class person:\n",
    "    def pass_name(self, name):\n",
    "        self.name = name\n",
    "        \n",
    "    def pass_surname(self, surname):\n",
    "        self.surname = surname\n",
    "        \n",
    "    def pass_yob(self, yob):\n",
    "        self.yob = yob"
   ]
  },
  {
   "cell_type": "code",
   "execution_count": 67,
   "id": "7b980dc9",
   "metadata": {},
   "outputs": [],
   "source": [
    "p = person()\n",
    "p.pass_name('ab')\n",
    "p.pass_surname('rt')\n",
    "p.pass_yob(1)"
   ]
  },
  {
   "cell_type": "code",
   "execution_count": 68,
   "id": "da437695",
   "metadata": {},
   "outputs": [
    {
     "data": {
      "text/plain": [
       "'ab'"
      ]
     },
     "execution_count": 68,
     "metadata": {},
     "output_type": "execute_result"
    }
   ],
   "source": [
    "p.name"
   ]
  },
  {
   "cell_type": "code",
   "execution_count": 69,
   "id": "ce887a36",
   "metadata": {},
   "outputs": [
    {
     "data": {
      "text/plain": [
       "1"
      ]
     },
     "execution_count": 69,
     "metadata": {},
     "output_type": "execute_result"
    }
   ],
   "source": [
    "p.yob"
   ]
  },
  {
   "cell_type": "markdown",
   "id": "db4313de",
   "metadata": {},
   "source": [
    "# ## Abstraction"
   ]
  },
  {
   "cell_type": "code",
   "execution_count": 70,
   "id": "180920ed",
   "metadata": {},
   "outputs": [],
   "source": [
    "## public, protected, private"
   ]
  },
  {
   "cell_type": "code",
   "execution_count": 71,
   "id": "c8f8c5ac",
   "metadata": {},
   "outputs": [],
   "source": [
    "class person:\n",
    "    \n",
    "    def __init__(self, name, surname, yob):\n",
    "        self._name= name\n",
    "        self._surname = surname\n",
    "        self._yob = yob\n",
    "        \n",
    "    def test(self, n,m):\n",
    "        return n+m+ self._yob\n",
    "    def __str__(self):\n",
    "        return \"%s is a first name and its sur name is %s and year of birth is %d \" %(self._name, self._surname, self._yob) "
   ]
  },
  {
   "cell_type": "code",
   "execution_count": 72,
   "id": "a23907a4",
   "metadata": {},
   "outputs": [],
   "source": [
    "# (_)protected \n",
    "p = person('aq', 'ws',34)"
   ]
  },
  {
   "cell_type": "code",
   "execution_count": 73,
   "id": "6cca235a",
   "metadata": {},
   "outputs": [
    {
     "data": {
      "text/plain": [
       "'aq'"
      ]
     },
     "execution_count": 73,
     "metadata": {},
     "output_type": "execute_result"
    }
   ],
   "source": [
    "p._name\n"
   ]
  },
  {
   "cell_type": "code",
   "execution_count": 75,
   "id": "4496b276",
   "metadata": {},
   "outputs": [
    {
     "data": {
      "text/plain": [
       "{'_name': 'aq', '_surname': 'ws', '_yob': 34}"
      ]
     },
     "execution_count": 75,
     "metadata": {},
     "output_type": "execute_result"
    }
   ],
   "source": [
    "p.__dict__"
   ]
  },
  {
   "cell_type": "code",
   "execution_count": 77,
   "id": "bf7cd42b",
   "metadata": {},
   "outputs": [
    {
     "data": {
      "text/plain": [
       "<__main__.person at 0x2722f690b50>"
      ]
     },
     "execution_count": 77,
     "metadata": {},
     "output_type": "execute_result"
    }
   ],
   "source": [
    "p"
   ]
  },
  {
   "cell_type": "code",
   "execution_count": 78,
   "id": "e18841f6",
   "metadata": {},
   "outputs": [],
   "source": [
    "s = person(\"asdd\", 'asdd',132)"
   ]
  },
  {
   "cell_type": "code",
   "execution_count": 79,
   "id": "fdc201f1",
   "metadata": {},
   "outputs": [
    {
     "data": {
      "text/plain": [
       "{'_name': 'asdd', '_surname': 'asdd', '_yob': 132}"
      ]
     },
     "execution_count": 79,
     "metadata": {},
     "output_type": "execute_result"
    }
   ],
   "source": [
    "s.__dict__"
   ]
  },
  {
   "cell_type": "code",
   "execution_count": 97,
   "id": "c98e3c64",
   "metadata": {},
   "outputs": [],
   "source": [
    "class person:\n",
    "    \n",
    "    def __init__(self, name, surname, yob):\n",
    "        self.__name= name\n",
    "        self._surname = surname\n",
    "        self._yob = yob\n",
    "        \n",
    "    def test(self, n,m):\n",
    "        return n+m+ self._yob\n",
    "    def __str__(self):\n",
    "        return \"%s is a first name and its sur name is %s and year of birth is %d \" %(self._name, self._surname, self._yob) "
   ]
  },
  {
   "cell_type": "code",
   "execution_count": 98,
   "id": "7e0f2b35",
   "metadata": {},
   "outputs": [],
   "source": [
    "p = person('asd','DAS',12334)"
   ]
  },
  {
   "cell_type": "code",
   "execution_count": 99,
   "id": "b892652c",
   "metadata": {},
   "outputs": [
    {
     "data": {
      "text/plain": [
       "{'_person__name': 'asd', '_surname': 'DAS', '_yob': 12334}"
      ]
     },
     "execution_count": 99,
     "metadata": {},
     "output_type": "execute_result"
    }
   ],
   "source": [
    "p.__dict__"
   ]
  },
  {
   "cell_type": "code",
   "execution_count": 100,
   "id": "117601f3",
   "metadata": {},
   "outputs": [
    {
     "data": {
      "text/plain": [
       "'asd'"
      ]
     },
     "execution_count": 100,
     "metadata": {},
     "output_type": "execute_result"
    }
   ],
   "source": [
    "p._person__name"
   ]
  },
  {
   "cell_type": "code",
   "execution_count": 101,
   "id": "be37c74b",
   "metadata": {},
   "outputs": [
    {
     "data": {
      "text/plain": [
       "'DAS'"
      ]
     },
     "execution_count": 101,
     "metadata": {},
     "output_type": "execute_result"
    }
   ],
   "source": [
    "p._surname"
   ]
  },
  {
   "cell_type": "markdown",
   "id": "983e7bcd",
   "metadata": {},
   "source": [
    "# inheritance"
   ]
  },
  {
   "cell_type": "code",
   "execution_count": 102,
   "id": "e90d8bcd",
   "metadata": {},
   "outputs": [],
   "source": [
    "class person:\n",
    "    \n",
    "    def __init__(self, name, surname, yob):\n",
    "        self._name= name\n",
    "        self._surname = surname\n",
    "        self._yob = yob\n",
    "        \n",
    "    def test(self, n,m):\n",
    "        return n+m+ self._yob\n",
    "    \n",
    "    def __str__(self):\n",
    "        return \"%s is a first name and its sur name is %s and year of birth is %d \" %(self._name, self._surname, self._yob) "
   ]
  },
  {
   "cell_type": "code",
   "execution_count": 107,
   "id": "17dd70db",
   "metadata": {},
   "outputs": [],
   "source": [
    "class student(person):\n",
    "    def __init__(self, roll_no, collage_name, *args):\n",
    "        super (student, self).__init__(*args)\n",
    "        self.roll_no = roll_no\n",
    "        self.collage_name = collage_name\n",
    "        \n",
    "        \n",
    "stud = student(1324,\"RRR\",\"abhi\",'rout',12)\n",
    "        "
   ]
  },
  {
   "cell_type": "code",
   "execution_count": 108,
   "id": "04a908cb",
   "metadata": {},
   "outputs": [
    {
     "data": {
      "text/plain": [
       "'abhi'"
      ]
     },
     "execution_count": 108,
     "metadata": {},
     "output_type": "execute_result"
    }
   ],
   "source": [
    "stud._name"
   ]
  },
  {
   "cell_type": "code",
   "execution_count": 110,
   "id": "6789cb35",
   "metadata": {},
   "outputs": [
    {
     "data": {
      "text/plain": [
       "'RRR'"
      ]
     },
     "execution_count": 110,
     "metadata": {},
     "output_type": "execute_result"
    }
   ],
   "source": [
    "stud.collage_name"
   ]
  },
  {
   "cell_type": "code",
   "execution_count": 111,
   "id": "1b818e4f",
   "metadata": {},
   "outputs": [
    {
     "data": {
      "text/plain": [
       "15"
      ]
     },
     "execution_count": 111,
     "metadata": {},
     "output_type": "execute_result"
    }
   ],
   "source": [
    "stud.test(1,2)"
   ]
  },
  {
   "cell_type": "code",
   "execution_count": 114,
   "id": "2ed9483b",
   "metadata": {},
   "outputs": [
    {
     "name": "stdout",
     "output_type": "stream",
     "text": [
      "my name is abhi\n",
      "my surname is rout\n",
      "my name is abhi\n"
     ]
    }
   ],
   "source": [
    "class a:\n",
    "    def test(self):\n",
    "        print(\"my name is abhi\")\n",
    "        \n",
    "class b:\n",
    "    def test(self):\n",
    "        print(\"my surname is rout\")\n",
    "\n",
    "    \n",
    "class c(a,b): # class \"c\" is a child class of 'a' and 'b'.\n",
    "    obja = a()\n",
    "    objb = b()\n",
    "    obja.test()\n",
    "    objb.test()\n",
    "    \n",
    "objc = c()\n",
    "objc.test()"
   ]
  },
  {
   "cell_type": "code",
   "execution_count": null,
   "id": "bad62a39",
   "metadata": {},
   "outputs": [],
   "source": []
  },
  {
   "cell_type": "code",
   "execution_count": null,
   "id": "42983645",
   "metadata": {},
   "outputs": [],
   "source": []
  }
 ],
 "metadata": {
  "kernelspec": {
   "display_name": "Python 3 (ipykernel)",
   "language": "python",
   "name": "python3"
  },
  "language_info": {
   "codemirror_mode": {
    "name": "ipython",
    "version": 3
   },
   "file_extension": ".py",
   "mimetype": "text/x-python",
   "name": "python",
   "nbconvert_exporter": "python",
   "pygments_lexer": "ipython3",
   "version": "3.8.8"
  }
 },
 "nbformat": 4,
 "nbformat_minor": 5
}
