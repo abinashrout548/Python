{
 "cells": [
  {
   "cell_type": "code",
   "execution_count": 1,
   "id": "8257b2e9",
   "metadata": {},
   "outputs": [],
   "source": [
    "## overwritting method\n",
    "class person:\n",
    "    def __init__(self, a, b, c):\n",
    "        self.a = a\n",
    "        self.b = b\n",
    "        self.c = c\n",
    "    def __str__(self):\n",
    "        return \"my name is abhi\""
   ]
  },
  {
   "cell_type": "code",
   "execution_count": 2,
   "id": "b14a29cc",
   "metadata": {},
   "outputs": [],
   "source": [
    "p = person(1 ,2 ,5)"
   ]
  },
  {
   "cell_type": "code",
   "execution_count": 3,
   "id": "151b5c07",
   "metadata": {},
   "outputs": [
    {
     "name": "stdout",
     "output_type": "stream",
     "text": [
      "my name is abhi\n"
     ]
    }
   ],
   "source": [
    "print(p)"
   ]
  },
  {
   "cell_type": "code",
   "execution_count": 4,
   "id": "0ee9a18f",
   "metadata": {},
   "outputs": [
    {
     "data": {
      "text/plain": [
       "1"
      ]
     },
     "execution_count": 4,
     "metadata": {},
     "output_type": "execute_result"
    }
   ],
   "source": [
    "p.a"
   ]
  },
  {
   "cell_type": "code",
   "execution_count": 5,
   "id": "df6ed559",
   "metadata": {},
   "outputs": [],
   "source": [
    "class student(person):\n",
    "    def __init__(self, student_id, *args):\n",
    "        super(student, self).__init__(*args)\n",
    "        self.student_id = student_id\n",
    "        \n",
    "    def __str__(self): ## over write\n",
    "        return super(student,self).__str__() + \" i am a student\""
   ]
  },
  {
   "cell_type": "code",
   "execution_count": 6,
   "id": "71cf2f66",
   "metadata": {},
   "outputs": [],
   "source": [
    "s = student(1,3,4,5)"
   ]
  },
  {
   "cell_type": "code",
   "execution_count": 7,
   "id": "504b7695",
   "metadata": {},
   "outputs": [
    {
     "name": "stdout",
     "output_type": "stream",
     "text": [
      "my name is abhi\n"
     ]
    }
   ],
   "source": [
    "print(p)"
   ]
  },
  {
   "cell_type": "code",
   "execution_count": 8,
   "id": "7cc32d4e",
   "metadata": {},
   "outputs": [
    {
     "name": "stdout",
     "output_type": "stream",
     "text": [
      "my name is abhi i am a student\n"
     ]
    }
   ],
   "source": [
    "print(s)"
   ]
  },
  {
   "cell_type": "code",
   "execution_count": 9,
   "id": "02a2e6f7",
   "metadata": {},
   "outputs": [],
   "source": [
    "class tyre:\n",
    "    def __init__(self, branch, baise, opt_pre):\n",
    "        self.baise = baise\n",
    "        self.branch = branch\n",
    "        self.opt_pre = opt_pre\n",
    "    def __str__(self):\n",
    "        return str(self.branch) + \" \" +str(self.baise) +\"  \"+ str(self.opt_pre)"
   ]
  },
  {
   "cell_type": "code",
   "execution_count": 10,
   "id": "a9e8ca31",
   "metadata": {},
   "outputs": [],
   "source": [
    "t = tyre(\"mrf\", 34, 24)"
   ]
  },
  {
   "cell_type": "code",
   "execution_count": 11,
   "id": "a7b9d967",
   "metadata": {},
   "outputs": [
    {
     "name": "stdout",
     "output_type": "stream",
     "text": [
      "mrf 34  24\n"
     ]
    }
   ],
   "source": [
    "print(t)"
   ]
  },
  {
   "cell_type": "code",
   "execution_count": 12,
   "id": "ea20436a",
   "metadata": {},
   "outputs": [],
   "source": [
    "class engine:\n",
    "    def __init__(self, fule_type, noise_level):\n",
    "        self.fule_type = fule_type\n",
    "        self.noise_level = noise_level\n",
    "        \n",
    "    def __str__(self):\n",
    "        return str(self.fule_type) +\"  \"+str(self.noise_level)"
   ]
  },
  {
   "cell_type": "code",
   "execution_count": 13,
   "id": "bbb9682e",
   "metadata": {},
   "outputs": [],
   "source": [
    "e = engine(\"petrol\",50)"
   ]
  },
  {
   "cell_type": "code",
   "execution_count": 14,
   "id": "8875b0f3",
   "metadata": {},
   "outputs": [
    {
     "name": "stdout",
     "output_type": "stream",
     "text": [
      "petrol  50\n"
     ]
    }
   ],
   "source": [
    "print(e)"
   ]
  },
  {
   "cell_type": "code",
   "execution_count": 15,
   "id": "bf8f1621",
   "metadata": {},
   "outputs": [],
   "source": [
    "class  body:\n",
    "    def __init__(self, body_size):\n",
    "        self.body_size = body_size\n",
    "    \n",
    "    def __str__(self):\n",
    "        return str(self.body_size)\n"
   ]
  },
  {
   "cell_type": "code",
   "execution_count": 16,
   "id": "dc346853",
   "metadata": {},
   "outputs": [],
   "source": [
    "b = body('small')"
   ]
  },
  {
   "cell_type": "code",
   "execution_count": 17,
   "id": "9c144d87",
   "metadata": {},
   "outputs": [
    {
     "name": "stdout",
     "output_type": "stream",
     "text": [
      "small\n"
     ]
    }
   ],
   "source": [
    "print(b)"
   ]
  },
  {
   "cell_type": "code",
   "execution_count": 18,
   "id": "b8344a37",
   "metadata": {},
   "outputs": [],
   "source": [
    "class car:\n",
    "    def __init__(self,b,e,t):\n",
    "        self.e = e\n",
    "        self.b = b\n",
    "        self.t = t\n",
    "    def __str__(self):\n",
    "        return \"this is my car class :\"+\"  \"+str(self.b)+\"  \"+str(self.e)+\"  \"+str(self.t)"
   ]
  },
  {
   "cell_type": "code",
   "execution_count": 19,
   "id": "d12a73ee",
   "metadata": {},
   "outputs": [],
   "source": [
    "c = car(b , e, t)"
   ]
  },
  {
   "cell_type": "code",
   "execution_count": 20,
   "id": "e4c6f85e",
   "metadata": {},
   "outputs": [
    {
     "name": "stdout",
     "output_type": "stream",
     "text": [
      "this is my car class :  small  petrol  50  mrf 34  24\n"
     ]
    }
   ],
   "source": [
    "print(c)"
   ]
  },
  {
   "cell_type": "markdown",
   "id": "7062f4a9",
   "metadata": {},
   "source": [
    "# DYNAMIC encapsulation"
   ]
  },
  {
   "cell_type": "code",
   "execution_count": 21,
   "id": "1921213d",
   "metadata": {},
   "outputs": [],
   "source": [
    "c = car(b,e,t)"
   ]
  },
  {
   "cell_type": "code",
   "execution_count": 22,
   "id": "7a2ce3f8",
   "metadata": {},
   "outputs": [],
   "source": [
    "##polymerprison\n",
    "def add_x(a,b):\n",
    "    return a+b # ( return like * , - , + , /)"
   ]
  },
  {
   "cell_type": "code",
   "execution_count": 23,
   "id": "60e1fc46",
   "metadata": {},
   "outputs": [
    {
     "data": {
      "text/plain": [
       "'abhi rout'"
      ]
     },
     "execution_count": 23,
     "metadata": {},
     "output_type": "execute_result"
    }
   ],
   "source": [
    "add_x(\"abhi\",\" rout\")"
   ]
  },
  {
   "cell_type": "code",
   "execution_count": 24,
   "id": "ba119adb",
   "metadata": {},
   "outputs": [
    {
     "data": {
      "text/plain": [
       "6"
      ]
     },
     "execution_count": 24,
     "metadata": {},
     "output_type": "execute_result"
    }
   ],
   "source": [
    "add_x(3,3)"
   ]
  },
  {
   "cell_type": "code",
   "execution_count": 25,
   "id": "0cc49a1f",
   "metadata": {},
   "outputs": [
    {
     "data": {
      "text/plain": [
       "[2, 4, 4, 5, 3, 4, 5, 6]"
      ]
     },
     "execution_count": 25,
     "metadata": {},
     "output_type": "execute_result"
    }
   ],
   "source": [
    "add_x([2,4,4,5],[3,4,5,6])"
   ]
  },
  {
   "cell_type": "markdown",
   "id": "9a65a8ad",
   "metadata": {},
   "source": [
    "# file handelling"
   ]
  },
  {
   "cell_type": "code",
   "execution_count": 26,
   "id": "53fa3178",
   "metadata": {},
   "outputs": [
    {
     "name": "stdout",
     "output_type": "stream",
     "text": [
      "Overwriting xyz.txt\n"
     ]
    }
   ],
   "source": [
    "%%writefile xyz.txt\n",
    "my name is abhi"
   ]
  },
  {
   "cell_type": "code",
   "execution_count": 27,
   "id": "584b9e2f",
   "metadata": {},
   "outputs": [
    {
     "data": {
      "text/plain": [
       "'C:\\\\Users\\\\Abinash rout'"
      ]
     },
     "execution_count": 27,
     "metadata": {},
     "output_type": "execute_result"
    }
   ],
   "source": [
    "pwd"
   ]
  },
  {
   "cell_type": "code",
   "execution_count": 69,
   "id": "c80c42f4",
   "metadata": {},
   "outputs": [
    {
     "data": {
      "text/plain": [
       "<_io.TextIOWrapper name='xyz.txt' mode='r' encoding='cp1252'>"
      ]
     },
     "execution_count": 69,
     "metadata": {},
     "output_type": "execute_result"
    }
   ],
   "source": [
    "f = open('xyz.txt')\n",
    "f"
   ]
  },
  {
   "cell_type": "code",
   "execution_count": 70,
   "id": "6c67bcb7",
   "metadata": {},
   "outputs": [
    {
     "data": {
      "text/plain": [
       "'aslkfnk \\n zjdh sjahd zmbfkjw hdfgj akasjgf \\n kahd zmjgs ahgd ajgd ajgd jgasv  ajshs\\n mmbjsb\\n \\n sanmklah\\n asnkan\\nn ckjabsac\\nsacnkanhcs\\nanckancna\\nadjanhdnakncka\\namnka\\nacnkabca asnh caiubcka k sxiuasg xasgiuagda cWIUAGGX giuHX hxIUAGXs'"
      ]
     },
     "execution_count": 70,
     "metadata": {},
     "output_type": "execute_result"
    }
   ],
   "source": [
    "f.read()"
   ]
  },
  {
   "cell_type": "code",
   "execution_count": 30,
   "id": "214dbaaf",
   "metadata": {},
   "outputs": [
    {
     "data": {
      "text/plain": [
       "2"
      ]
     },
     "execution_count": 30,
     "metadata": {},
     "output_type": "execute_result"
    }
   ],
   "source": [
    "f.seek(2) # seek is use to adjust the pointer of startint point."
   ]
  },
  {
   "cell_type": "code",
   "execution_count": 31,
   "id": "1fd99bee",
   "metadata": {},
   "outputs": [
    {
     "data": {
      "text/plain": [
       "' name is abhi\\n'"
      ]
     },
     "execution_count": 31,
     "metadata": {},
     "output_type": "execute_result"
    }
   ],
   "source": [
    "f.read()"
   ]
  },
  {
   "cell_type": "code",
   "execution_count": 72,
   "id": "edc298bb",
   "metadata": {},
   "outputs": [
    {
     "data": {
      "text/plain": [
       "12"
      ]
     },
     "execution_count": 72,
     "metadata": {},
     "output_type": "execute_result"
    }
   ],
   "source": [
    "f1 = open('xyz.txt','w+')\n",
    "f1.write(\"this is abhi\")"
   ]
  },
  {
   "cell_type": "code",
   "execution_count": 73,
   "id": "a5037314",
   "metadata": {},
   "outputs": [
    {
     "data": {
      "text/plain": [
       "''"
      ]
     },
     "execution_count": 73,
     "metadata": {},
     "output_type": "execute_result"
    }
   ],
   "source": [
    "f1.read()"
   ]
  },
  {
   "cell_type": "code",
   "execution_count": 34,
   "id": "07a03c6d",
   "metadata": {},
   "outputs": [
    {
     "data": {
      "text/plain": [
       "0"
      ]
     },
     "execution_count": 34,
     "metadata": {},
     "output_type": "execute_result"
    }
   ],
   "source": [
    "f1.seek(0)"
   ]
  },
  {
   "cell_type": "code",
   "execution_count": 35,
   "id": "9ecc3cb8",
   "metadata": {},
   "outputs": [
    {
     "data": {
      "text/plain": [
       "'this is abhi'"
      ]
     },
     "execution_count": 35,
     "metadata": {},
     "output_type": "execute_result"
    }
   ],
   "source": [
    "f1.read()"
   ]
  },
  {
   "cell_type": "code",
   "execution_count": 36,
   "id": "d148ee02",
   "metadata": {},
   "outputs": [
    {
     "data": {
      "text/plain": [
       "83"
      ]
     },
     "execution_count": 36,
     "metadata": {},
     "output_type": "execute_result"
    }
   ],
   "source": [
    "f1=open(\"xyz.txt\",'wt+')\n",
    "f1.write(\"aslkfnk \\n zjdh sjahd zmbfkjw hdfgj akasjgf \\n kahd zmjgs ahgd ajgd ajgd jgasv  ajshs\")"
   ]
  },
  {
   "cell_type": "code",
   "execution_count": 40,
   "id": "d5f46fd0",
   "metadata": {},
   "outputs": [
    {
     "data": {
      "text/plain": [
       "''"
      ]
     },
     "execution_count": 40,
     "metadata": {},
     "output_type": "execute_result"
    }
   ],
   "source": [
    "f1.read()"
   ]
  },
  {
   "cell_type": "code",
   "execution_count": 39,
   "id": "ab5f1d74",
   "metadata": {},
   "outputs": [
    {
     "data": {
      "text/plain": [
       "'mmbjsb\\n \\n sanmklah\\n asnkan\\nn ckjabsac\\nsacnkanhcs\\nanckancna\\nadjanhdnakncka\\namnka\\nacnkabca asnh caiubcka k sxiuasg xasgiuagda cWIUAGGX giuHX hxIUAGXs'"
      ]
     },
     "execution_count": 39,
     "metadata": {},
     "output_type": "execute_result"
    }
   ],
   "source": [
    "f1.read()"
   ]
  },
  {
   "cell_type": "code",
   "execution_count": 41,
   "id": "bb3aa2d2",
   "metadata": {},
   "outputs": [
    {
     "name": "stdout",
     "output_type": "stream",
     "text": [
      "aslkfnk \n",
      "\n",
      " zjdh sjahd zmbfkjw hdfgj akasjgf \n",
      "\n",
      " kahd zmjgs ahgd ajgd ajgd jgasv  ajshs\n",
      "\n",
      " mmbjsb\n",
      "\n",
      " \n",
      "\n",
      " sanmklah\n",
      "\n",
      " asnkan\n",
      "\n",
      "n ckjabsac\n",
      "\n",
      "sacnkanhcs\n",
      "\n",
      "anckancna\n",
      "\n",
      "adjanhdnakncka\n",
      "\n",
      "amnka\n",
      "\n",
      "acnkabca asnh caiubcka k sxiuasg xasgiuagda cWIUAGGX giuHX hxIUAGXs\n"
     ]
    }
   ],
   "source": [
    "for i in open('xyz.txt'):\n",
    "    print(i)"
   ]
  },
  {
   "cell_type": "code",
   "execution_count": 42,
   "id": "5194314d",
   "metadata": {},
   "outputs": [],
   "source": [
    "s = \"sudh\""
   ]
  },
  {
   "cell_type": "code",
   "execution_count": 44,
   "id": "a4d38f46",
   "metadata": {},
   "outputs": [],
   "source": [
    "from io import StringIO"
   ]
  },
  {
   "cell_type": "code",
   "execution_count": 49,
   "id": "a8df2f57",
   "metadata": {},
   "outputs": [
    {
     "name": "stdout",
     "output_type": "stream",
     "text": [
      "ADSAD dfg df dh dhfdfg erghrtrt truru rtjytk6u\n"
     ]
    }
   ],
   "source": [
    "s = input()"
   ]
  },
  {
   "cell_type": "code",
   "execution_count": 51,
   "id": "b76ad3ad",
   "metadata": {},
   "outputs": [],
   "source": [
    "s1 = StringIO(s)"
   ]
  },
  {
   "cell_type": "code",
   "execution_count": 52,
   "id": "fcaccf5e",
   "metadata": {},
   "outputs": [
    {
     "data": {
      "text/plain": [
       "str"
      ]
     },
     "execution_count": 52,
     "metadata": {},
     "output_type": "execute_result"
    }
   ],
   "source": [
    "type(s)"
   ]
  },
  {
   "cell_type": "code",
   "execution_count": 53,
   "id": "c4752ee2",
   "metadata": {},
   "outputs": [
    {
     "data": {
      "text/plain": [
       "_io.StringIO"
      ]
     },
     "execution_count": 53,
     "metadata": {},
     "output_type": "execute_result"
    }
   ],
   "source": [
    "type(s1)"
   ]
  },
  {
   "cell_type": "code",
   "execution_count": 54,
   "id": "535c1fc5",
   "metadata": {},
   "outputs": [
    {
     "data": {
      "text/plain": [
       "'ADSAD dfg df dh dhfdfg erghrtrt truru rtjytk6u'"
      ]
     },
     "execution_count": 54,
     "metadata": {},
     "output_type": "execute_result"
    }
   ],
   "source": [
    "s1.read()"
   ]
  },
  {
   "cell_type": "code",
   "execution_count": 55,
   "id": "c3285cc4",
   "metadata": {},
   "outputs": [
    {
     "data": {
      "text/plain": [
       "''"
      ]
     },
     "execution_count": 55,
     "metadata": {},
     "output_type": "execute_result"
    }
   ],
   "source": [
    "s1.read()"
   ]
  },
  {
   "cell_type": "code",
   "execution_count": 57,
   "id": "9d3b48c0",
   "metadata": {},
   "outputs": [
    {
     "data": {
      "text/plain": [
       "5"
      ]
     },
     "execution_count": 57,
     "metadata": {},
     "output_type": "execute_result"
    }
   ],
   "source": [
    "s1.seek(5)"
   ]
  },
  {
   "cell_type": "code",
   "execution_count": 58,
   "id": "6edf9fab",
   "metadata": {},
   "outputs": [
    {
     "data": {
      "text/plain": [
       "' dfg df dh dhfdfg erghrtrt truru rtjytk6u'"
      ]
     },
     "execution_count": 58,
     "metadata": {},
     "output_type": "execute_result"
    }
   ],
   "source": [
    "s1.read()"
   ]
  },
  {
   "cell_type": "code",
   "execution_count": 59,
   "id": "8c7b9cab",
   "metadata": {},
   "outputs": [
    {
     "data": {
      "text/plain": [
       "41"
      ]
     },
     "execution_count": 59,
     "metadata": {},
     "output_type": "execute_result"
    }
   ],
   "source": [
    "s1.write(\"adasf afasff sdfdf gsdds fsefadsfs safasf\")"
   ]
  },
  {
   "cell_type": "code",
   "execution_count": 60,
   "id": "d3e1721b",
   "metadata": {},
   "outputs": [
    {
     "data": {
      "text/plain": [
       "''"
      ]
     },
     "execution_count": 60,
     "metadata": {},
     "output_type": "execute_result"
    }
   ],
   "source": [
    "s1.read()"
   ]
  },
  {
   "cell_type": "code",
   "execution_count": 61,
   "id": "ca3a5dcd",
   "metadata": {},
   "outputs": [
    {
     "data": {
      "text/plain": [
       "0"
      ]
     },
     "execution_count": 61,
     "metadata": {},
     "output_type": "execute_result"
    }
   ],
   "source": [
    "s1.seek(0)"
   ]
  },
  {
   "cell_type": "code",
   "execution_count": 62,
   "id": "3910fb02",
   "metadata": {},
   "outputs": [
    {
     "data": {
      "text/plain": [
       "'ADSAD dfg df dh dhfdfg erghrtrt truru rtjytk6uadasf afasff sdfdf gsdds fsefadsfs safasf'"
      ]
     },
     "execution_count": 62,
     "metadata": {},
     "output_type": "execute_result"
    }
   ],
   "source": [
    "s1.read()"
   ]
  },
  {
   "cell_type": "markdown",
   "id": "3e6599ab",
   "metadata": {},
   "source": [
    "# Exception Handelling."
   ]
  },
  {
   "cell_type": "code",
   "execution_count": 63,
   "id": "eb46587c",
   "metadata": {},
   "outputs": [
    {
     "ename": "NameError",
     "evalue": "name 'pandas' is not defined",
     "output_type": "error",
     "traceback": [
      "\u001b[1;31m---------------------------------------------------------------------------\u001b[0m",
      "\u001b[1;31mNameError\u001b[0m                                 Traceback (most recent call last)",
      "\u001b[1;32mC:\\Users\\ABINAS~1\\AppData\\Local\\Temp/ipykernel_26212/2769850856.py\u001b[0m in \u001b[0;36m<module>\u001b[1;34m\u001b[0m\n\u001b[1;32m----> 1\u001b[1;33m \u001b[0mpandas\u001b[0m\u001b[1;33m.\u001b[0m\u001b[0mread_csv\u001b[0m\u001b[1;33m\u001b[0m\u001b[1;33m\u001b[0m\u001b[0m\n\u001b[0m",
      "\u001b[1;31mNameError\u001b[0m: name 'pandas' is not defined"
     ]
    }
   ],
   "source": [
    "pandas.read_csv"
   ]
  },
  {
   "cell_type": "code",
   "execution_count": 64,
   "id": "84d9ac47",
   "metadata": {},
   "outputs": [
    {
     "ename": "ZeroDivisionError",
     "evalue": "division by zero",
     "output_type": "error",
     "traceback": [
      "\u001b[1;31m---------------------------------------------------------------------------\u001b[0m",
      "\u001b[1;31mZeroDivisionError\u001b[0m                         Traceback (most recent call last)",
      "\u001b[1;32mC:\\Users\\ABINAS~1\\AppData\\Local\\Temp/ipykernel_26212/2590173015.py\u001b[0m in \u001b[0;36m<module>\u001b[1;34m\u001b[0m\n\u001b[1;32m----> 1\u001b[1;33m \u001b[1;36m6\u001b[0m\u001b[1;33m/\u001b[0m\u001b[1;36m0\u001b[0m\u001b[1;33m\u001b[0m\u001b[1;33m\u001b[0m\u001b[0m\n\u001b[0m",
      "\u001b[1;31mZeroDivisionError\u001b[0m: division by zero"
     ]
    }
   ],
   "source": [
    "6/0"
   ]
  },
  {
   "cell_type": "code",
   "execution_count": 1,
   "id": "fddce701",
   "metadata": {},
   "outputs": [
    {
     "name": "stdout",
     "output_type": "stream",
     "text": [
      "0\n"
     ]
    },
    {
     "ename": "ZeroDivisionError",
     "evalue": "division by zero",
     "output_type": "error",
     "traceback": [
      "\u001b[1;31m---------------------------------------------------------------------------\u001b[0m",
      "\u001b[1;31mZeroDivisionError\u001b[0m                         Traceback (most recent call last)",
      "\u001b[1;32mC:\\Users\\ABINAS~1\\AppData\\Local\\Temp/ipykernel_27860/1698784081.py\u001b[0m in \u001b[0;36m<module>\u001b[1;34m\u001b[0m\n\u001b[0;32m      1\u001b[0m \u001b[0ma\u001b[0m \u001b[1;33m=\u001b[0m \u001b[0mint\u001b[0m\u001b[1;33m(\u001b[0m\u001b[0minput\u001b[0m\u001b[1;33m(\u001b[0m\u001b[1;33m)\u001b[0m\u001b[1;33m)\u001b[0m\u001b[1;33m\u001b[0m\u001b[1;33m\u001b[0m\u001b[0m\n\u001b[1;32m----> 2\u001b[1;33m \u001b[1;36m5\u001b[0m\u001b[1;33m/\u001b[0m\u001b[0ma\u001b[0m\u001b[1;33m\u001b[0m\u001b[1;33m\u001b[0m\u001b[0m\n\u001b[0m",
      "\u001b[1;31mZeroDivisionError\u001b[0m: division by zero"
     ]
    }
   ],
   "source": [
    "a = int(input())\n",
    "5/a"
   ]
  },
  {
   "cell_type": "code",
   "execution_count": 80,
   "id": "1f5f19d9",
   "metadata": {},
   "outputs": [
    {
     "ename": "UnsupportedOperation",
     "evalue": "not writable",
     "output_type": "error",
     "traceback": [
      "\u001b[1;31m---------------------------------------------------------------------------\u001b[0m",
      "\u001b[1;31mUnsupportedOperation\u001b[0m                      Traceback (most recent call last)",
      "\u001b[1;32mC:\\Users\\ABINAS~1\\AppData\\Local\\Temp/ipykernel_26212/3826806224.py\u001b[0m in \u001b[0;36m<module>\u001b[1;34m\u001b[0m\n\u001b[0;32m      1\u001b[0m \u001b[0mf\u001b[0m \u001b[1;33m=\u001b[0m \u001b[0mopen\u001b[0m\u001b[1;33m(\u001b[0m\u001b[1;34m'xyz.txt'\u001b[0m\u001b[1;33m,\u001b[0m\u001b[1;34m'r'\u001b[0m\u001b[1;33m)\u001b[0m\u001b[1;33m\u001b[0m\u001b[1;33m\u001b[0m\u001b[0m\n\u001b[1;32m----> 2\u001b[1;33m \u001b[0mf\u001b[0m\u001b[1;33m.\u001b[0m\u001b[0mwrite\u001b[0m\u001b[1;33m(\u001b[0m\u001b[1;34m\"this is abhi\"\u001b[0m\u001b[1;33m)\u001b[0m\u001b[1;33m\u001b[0m\u001b[1;33m\u001b[0m\u001b[0m\n\u001b[0m\u001b[0;32m      3\u001b[0m \u001b[0mprint\u001b[0m\u001b[1;33m(\u001b[0m\u001b[1;34m\"print this if above code is valid\"\u001b[0m\u001b[1;33m)\u001b[0m\u001b[1;33m\u001b[0m\u001b[1;33m\u001b[0m\u001b[0m\n\u001b[0;32m      4\u001b[0m \u001b[1;36m5\u001b[0m\u001b[1;33m+\u001b[0m\u001b[1;36m6\u001b[0m\u001b[1;33m\u001b[0m\u001b[1;33m\u001b[0m\u001b[0m\n",
      "\u001b[1;31mUnsupportedOperation\u001b[0m: not writable"
     ]
    }
   ],
   "source": [
    "f = open('xyz.txt','r')\n",
    "f.write(\"this is abhi\")\n",
    "print(\"print this if above code is valid\")\n",
    "5+6"
   ]
  },
  {
   "cell_type": "code",
   "execution_count": 4,
   "id": "cd87feb0",
   "metadata": {},
   "outputs": [
    {
     "name": "stdout",
     "output_type": "stream",
     "text": [
      "my code is working\n"
     ]
    }
   ],
   "source": [
    "try :\n",
    "    f = open('xyz.txt','w')\n",
    "    f.write(\"hsgst\")\n",
    "    print(\"my code is working\")\n",
    "# when us try block use except block\n",
    "except :              \n",
    "    print(\"my code has failed\")"
   ]
  },
  {
   "cell_type": "code",
   "execution_count": 5,
   "id": "ad15cf51",
   "metadata": {},
   "outputs": [
    {
     "name": "stdout",
     "output_type": "stream",
     "text": [
      "my code has failed\n"
     ]
    }
   ],
   "source": [
    "try :\n",
    "    f = open('xyz.txt','r')\n",
    "    f.write(\"hsgst\")\n",
    "    print(\"my code is working\")\n",
    "# when us try block use except block\n",
    "except :              \n",
    "    print(\"my code has failed\")"
   ]
  },
  {
   "cell_type": "code",
   "execution_count": 8,
   "id": "8b8fe734",
   "metadata": {},
   "outputs": [
    {
     "name": "stdout",
     "output_type": "stream",
     "text": [
      "0\n",
      "there some issue in code\n"
     ]
    }
   ],
   "source": [
    "try:\n",
    "    a = int(input())\n",
    "    b = 7/a\n",
    "    print(b)\n",
    "except:\n",
    "    print(\"there some issue in code\")\n",
    " "
   ]
  },
  {
   "cell_type": "code",
   "execution_count": 10,
   "id": "db87239d",
   "metadata": {},
   "outputs": [
    {
     "name": "stdout",
     "output_type": "stream",
     "text": [
      "0\n",
      "division by zero\n",
      "this is the line at the end\n"
     ]
    }
   ],
   "source": [
    "try:\n",
    "    a = int(input())\n",
    "    b = 7/a\n",
    "    print(b)\n",
    "except Exception as e:\n",
    "    print(e)\n",
    "print(\"this is the line at the end\")  "
   ]
  },
  {
   "cell_type": "code",
   "execution_count": 14,
   "id": "92730284",
   "metadata": {},
   "outputs": [
    {
     "name": "stdout",
     "output_type": "stream",
     "text": [
      "3\n",
      "this code is working fine\n",
      " it has executed a try block and its working fine\n"
     ]
    }
   ],
   "source": [
    "try:\n",
    "    a = int(input())\n",
    "    b = 7/a\n",
    "    print(\"this code is working fine\")\n",
    "except:\n",
    "    print(\"there some issue with my try block\")\n",
    "else:\n",
    "    print(\" it has executed a try block and its working fine\")"
   ]
  },
  {
   "cell_type": "code",
   "execution_count": 15,
   "id": "d55223cf",
   "metadata": {},
   "outputs": [
    {
     "name": "stdout",
     "output_type": "stream",
     "text": [
      "0\n",
      "there some issue with my try block\n"
     ]
    }
   ],
   "source": [
    "try:\n",
    "    a = int(input())\n",
    "    b = 7/a\n",
    "    print(\"this code is working fine\")\n",
    "except:\n",
    "    print(\"there some issue with my try block\")\n",
    "else:\n",
    "    print(\" it has executed a try block and its working fine\")"
   ]
  },
  {
   "cell_type": "code",
   "execution_count": 18,
   "id": "fbee3053",
   "metadata": {},
   "outputs": [
    {
     "name": "stdout",
     "output_type": "stream",
     "text": [
      "0\n",
      "there some issue with my try block\n",
      " this block should execute itself no matter what\n"
     ]
    }
   ],
   "source": [
    "try:\n",
    "    a = int(input())\n",
    "    b = 7/a\n",
    "    print(\"this code is working fine\")\n",
    "except:\n",
    "    print(\"there some issue with my try block\")\n",
    "else:\n",
    "    print(\" it has executed a try block and its working fine\")\n",
    "finally :\n",
    "    print(\" this block should execute itself no matter what\")"
   ]
  },
  {
   "cell_type": "code",
   "execution_count": 19,
   "id": "766e0eaf",
   "metadata": {},
   "outputs": [
    {
     "name": "stdout",
     "output_type": "stream",
     "text": [
      "3\n",
      "this code is working fine\n",
      " it has executed a try block and its working fine\n",
      " this block should execute itself no matter what\n"
     ]
    }
   ],
   "source": [
    "try:\n",
    "    a = int(input())\n",
    "    b = 7/a\n",
    "    print(\"this code is working fine\")\n",
    "except:\n",
    "    print(\"there some issue with my try block\")\n",
    "else:\n",
    "    print(\" it has executed a try block and its working fine\")\n",
    "finally :\n",
    "    print(\" this block should execute itself no matter what\")"
   ]
  },
  {
   "cell_type": "code",
   "execution_count": null,
   "id": "627b0a81",
   "metadata": {},
   "outputs": [],
   "source": []
  }
 ],
 "metadata": {
  "kernelspec": {
   "display_name": "Python 3 (ipykernel)",
   "language": "python",
   "name": "python3"
  },
  "language_info": {
   "codemirror_mode": {
    "name": "ipython",
    "version": 3
   },
   "file_extension": ".py",
   "mimetype": "text/x-python",
   "name": "python",
   "nbconvert_exporter": "python",
   "pygments_lexer": "ipython3",
   "version": "3.8.8"
  }
 },
 "nbformat": 4,
 "nbformat_minor": 5
}
