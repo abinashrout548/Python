{
 "cells": [
  {
   "cell_type": "code",
   "execution_count": 1,
   "id": "d9aa3fcc",
   "metadata": {},
   "outputs": [
    {
     "name": "stdout",
     "output_type": "stream",
     "text": [
      "[10, 10, 10]\n",
      "[0, 0, 0]\n",
      "[0, 0, 0]\n",
      "[10, 10, 10]\n",
      "[10, 10, 10]\n",
      "[0, 0, 0]\n",
      "[10, 10, 10]\n",
      "[10, 10, 10]\n",
      "[10, 10, 10]\n"
     ]
    }
   ],
   "source": [
    "#.Q._1.Write a Python Program to Add Two Matrices?\n",
    "x = [[1,2,3],\n",
    "    [4,5,6],\n",
    "    [7,8,9]]\n",
    "\n",
    "y = [[9,8,7],\n",
    "    [6,5,4],\n",
    "    [3,2,1]]\n",
    "\n",
    "result = [[0,0,0],\n",
    "         [0,0,0],\n",
    "         [0,0,0,]]\n",
    "\n",
    "# iterate through rows\n",
    "for i in range(len(x)):\n",
    "# Iterate through columns\n",
    "    for j in range(len(x[0])):\n",
    "        result[i][j] = x[i][j] + y[i][j]\n",
    "        \n",
    "    for r in result:\n",
    "        print(r)"
   ]
  },
  {
   "cell_type": "code",
   "execution_count": 2,
   "id": "77825b32",
   "metadata": {},
   "outputs": [
    {
     "name": "stdout",
     "output_type": "stream",
     "text": [
      "[9, 16, 21]\n",
      "[0, 0, 0]\n",
      "[0, 0, 0]\n",
      "[9, 16, 21]\n",
      "[24, 25, 24]\n",
      "[0, 0, 0]\n",
      "[9, 16, 21]\n",
      "[24, 25, 24]\n",
      "[21, 16, 9]\n"
     ]
    }
   ],
   "source": [
    "#.Q._2.Write a Python Program to Multiply Two Matrices?\n",
    "\n",
    "X = [[1,2,3],\n",
    "    [4,5,6],\n",
    "    [7,8,9]]\n",
    "\n",
    "Y = [[9,8,7],\n",
    "    [6,5,4],\n",
    "    [3,2,1]]\n",
    "\n",
    "result = [[0,0,0],\n",
    "         [0,0,0],\n",
    "         [0,0,0]]\n",
    "\n",
    "# iterate through rows\n",
    "for i in range(len(X)):\n",
    "# iterate through columns\n",
    "    for j in range(len(X[0])):\n",
    "        result[i][j] = X[i][j] * Y[i][j]\n",
    "        \n",
    "    for r in result:\n",
    "        print(r)"
   ]
  },
  {
   "cell_type": "code",
   "execution_count": 17,
   "id": "e284606e",
   "metadata": {},
   "outputs": [
    {
     "name": "stdout",
     "output_type": "stream",
     "text": [
      "[1, 4, 8, 3]\n",
      "[2, 6, 9, 5]\n"
     ]
    }
   ],
   "source": [
    "#.Q._3.Write a Python Program to Transpose a Matrix?\n",
    "\n",
    "X = [[1,2],\n",
    "    [4,6],\n",
    "    [8,9],\n",
    "    [3,5]]\n",
    "\n",
    "\n",
    "result = [[0,0,0,0],\n",
    "         [0,0,0,0]]\n",
    "\n",
    "# iterate through rows\n",
    "for i in range(len(X)):\n",
    "# iterate through columns\n",
    "    for j in range(len(X[0])):\n",
    "        result[j][i] = X[i][j]\n",
    "        \n",
    "        \n",
    "for r in result:\n",
    "    print(r)"
   ]
  },
  {
   "cell_type": "code",
   "execution_count": 21,
   "id": "99fa7bd3",
   "metadata": {},
   "outputs": [
    {
     "name": "stdout",
     "output_type": "stream",
     "text": [
      "Entr your input:Write a Python Program to Sort Words in Alphabetic Order\n",
      "The sorted words are:\n",
      "A\n",
      "ALPHABETIC\n",
      "IN\n",
      "ORDER\n",
      "PROGRAM\n",
      "PYTHON\n",
      "SORT\n",
      "TO\n",
      "WORDS\n",
      "WRITE\n"
     ]
    }
   ],
   "source": [
    "#.Q._4.Write a Python Program to Sort Words in Alphabetic Order?\n",
    "\n",
    "my_str = input(\"Entr your input:\")\n",
    "\n",
    "words = [word.upper() for word in my_str.split()]\n",
    "words.sort()\n",
    "\n",
    "print(\"The sorted words are:\")\n",
    "\n",
    "for word in words:\n",
    "    print(word)"
   ]
  },
  {
   "cell_type": "code",
   "execution_count": 8,
   "id": "d5cfeeed",
   "metadata": {},
   "outputs": [
    {
     "name": "stdout",
     "output_type": "stream",
     "text": [
      "Enter user input:\"Hello!!!!!!!! Well*****Come to ><><>< python__-__-__||| world|||||\\\\\\\\\\///////@$%#\n",
      "Hello WellCome to  python world\n"
     ]
    }
   ],
   "source": [
    "#.Q._.5.Write a Python Program to Remove Punctuation From a String?\n",
    "\n",
    "punctuations = \"\"'''!()-[]{};:'\"\\,|<>./?@#$%^&*_~'''\"\"\n",
    "\n",
    "# to take input from user\n",
    "my_str = input(\"Enter user input:\")\n",
    "\n",
    "# remove punctutation from the string\n",
    "no_punct= \"\"\n",
    "for char in my_str:\n",
    "    \n",
    "    if char not in punctuations:\n",
    "        no_punct = no_punct + char\n",
    "        \n",
    "print(no_punct)"
   ]
  },
  {
   "cell_type": "code",
   "execution_count": null,
   "id": "02c83cdb",
   "metadata": {},
   "outputs": [],
   "source": []
  }
 ],
 "metadata": {
  "kernelspec": {
   "display_name": "Python 3",
   "language": "python",
   "name": "python3"
  },
  "language_info": {
   "codemirror_mode": {
    "name": "ipython",
    "version": 3
   },
   "file_extension": ".py",
   "mimetype": "text/x-python",
   "name": "python",
   "nbconvert_exporter": "python",
   "pygments_lexer": "ipython3",
   "version": "3.8.8"
  }
 },
 "nbformat": 4,
 "nbformat_minor": 5
}
