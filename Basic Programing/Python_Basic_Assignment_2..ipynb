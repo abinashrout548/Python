{
 "cells": [
  {
   "cell_type": "code",
   "execution_count": 1,
   "id": "a0bcfc17",
   "metadata": {},
   "outputs": [
    {
     "name": "stdout",
     "output_type": "stream",
     "text": [
      "Enter kilometer values :5\n",
      "5.00 kilometers is equal to 3.11 miles\n"
     ]
    }
   ],
   "source": [
    "#_Q.1.\tWrite a Python program to convert kilometers to miles?\n",
    "kilometers = float(input(\"Enter kilometer values :\"))\n",
    "conv_fac = 0.621371 #Conversion factor\n",
    "miles = kilometers * conv_fac #Calculate_miles\n",
    "print('%0.2f kilometers is equal to %0.2f miles'%(kilometers,miles))"
   ]
  },
  {
   "cell_type": "code",
   "execution_count": 2,
   "id": "f7676df5",
   "metadata": {},
   "outputs": [
    {
     "name": "stdout",
     "output_type": "stream",
     "text": [
      "Enter the celsius value:34\n",
      "34.00 celsius is equal to 93.20 fahrenheit\n"
     ]
    }
   ],
   "source": [
    "#_Q.2.\tWrite a Python program to convert Celsius to Fahrenheit?\n",
    "celsius = float(input(\"Enter the celsius value:\"))\n",
    "fahrenheit = (celsius*9/5)+32\n",
    "print(\"%0.2f celsius is equal to %0.2f fahrenheit\"%(celsius , fahrenheit))"
   ]
  },
  {
   "cell_type": "code",
   "execution_count": 3,
   "id": "26b2e3f8",
   "metadata": {},
   "outputs": [
    {
     "name": "stdout",
     "output_type": "stream",
     "text": [
      "Enter year: 1998\n",
      "Enter month: 3\n",
      "     March 1998\n",
      "Mo Tu We Th Fr Sa Su\n",
      "                   1\n",
      " 2  3  4  5  6  7  8\n",
      " 9 10 11 12 13 14 15\n",
      "16 17 18 19 20 21 22\n",
      "23 24 25 26 27 28 29\n",
      "30 31\n",
      "\n"
     ]
    }
   ],
   "source": [
    "#_Q.3.\tWrite a Python program to display calendar?\n",
    "import calendar\n",
    "yy = int(input(\"Enter year: \")) # To take month and year input from the user\n",
    "mm = int(input(\"Enter month: \"))\n",
    "print(calendar.month(yy, mm))"
   ]
  },
  {
   "cell_type": "code",
   "execution_count": 4,
   "id": "7e0c6ef0",
   "metadata": {},
   "outputs": [
    {
     "name": "stdout",
     "output_type": "stream",
     "text": [
      "Enter the value a:8\n",
      "Enter the value b:5\n",
      "Enter the value c:9\n",
      "The solution are (-0.3125+1.0135796712641785j) and (-0.3125-1.0135796712641785j)\n"
     ]
    }
   ],
   "source": [
    "#_Q.4.\tWrite a Python program to solve quadratic equation?\n",
    "import cmath\n",
    "a = float(input(\"Enter the value a:\"))\n",
    "b = float(input(\"Enter the value b:\"))\n",
    "c = float(input(\"Enter the value c:\"))\n",
    "x = (b**2)-(4*a*c)\n",
    "# Find two solutions\n",
    "soln_1 = (-b + cmath.sqrt(x))/(2*a)\n",
    "soln_2 = (-b - cmath.sqrt(x))/(2*a)\n",
    "print(\"The solution are {0} and {1}\".format(soln_1,soln_2))"
   ]
  },
  {
   "cell_type": "code",
   "execution_count": 11,
   "id": "10fb3120",
   "metadata": {},
   "outputs": [
    {
     "name": "stdout",
     "output_type": "stream",
     "text": [
      "Enter value of X:9\n",
      "Enter value of Y:6\n",
      "Before swapping numbers:9  6\n",
      "\n",
      "After swapping numbers:6  9\n",
      "\n"
     ]
    }
   ],
   "source": [
    "#_Q.5.\tWrite a Python program to swap two variables without temp variable?\n",
    "X = int(input(\"Enter value of X:\"))\n",
    "Y = int(input(\"Enter value of Y:\"))\n",
    "print(\"Before swapping numbers:%d  %d\\n\"%(X,Y))\n",
    "print(\"After swapping numbers:%d  %d\\n\"%(Y,X))"
   ]
  },
  {
   "cell_type": "code",
   "execution_count": 10,
   "id": "78022edf",
   "metadata": {},
   "outputs": [
    {
     "name": "stdout",
     "output_type": "stream",
     "text": [
      "Enter the value of x?9\n",
      "Enter the value of y?6\n",
      "before swapping numbers: 9   6\n",
      "\n",
      "After swapping: 6   9\n",
      "\n"
     ]
    }
   ],
   "source": [
    "x = int(input(\"Enter the value of x?\"))  \n",
    "y = int(input(\"Enter the value of y?\"))  \n",
    "print(\"before swapping numbers: %d   %d\\n\" %(x,y))  \n",
    "x = x + y     \n",
    "y = x - y    \n",
    "x = x - y         \n",
    "print(\"After swapping: %d   %d\\n\"%(x,y))  "
   ]
  },
  {
   "cell_type": "code",
   "execution_count": null,
   "id": "c17ab2cc",
   "metadata": {},
   "outputs": [],
   "source": []
  }
 ],
 "metadata": {
  "kernelspec": {
   "display_name": "Python 3",
   "language": "python",
   "name": "python3"
  },
  "language_info": {
   "codemirror_mode": {
    "name": "ipython",
    "version": 3
   },
   "file_extension": ".py",
   "mimetype": "text/x-python",
   "name": "python",
   "nbconvert_exporter": "python",
   "pygments_lexer": "ipython3",
   "version": "3.8.8"
  }
 },
 "nbformat": 4,
 "nbformat_minor": 5
}
