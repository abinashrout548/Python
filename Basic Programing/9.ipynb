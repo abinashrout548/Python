{
 "cells": [
  {
   "cell_type": "markdown",
   "id": "1a8bcd08",
   "metadata": {},
   "source": [
    "# 1.\tWrite a Python program to check if the given number is a Disarium Number?"
   ]
  },
  {
   "cell_type": "code",
   "execution_count": 1,
   "id": "185044d5",
   "metadata": {},
   "outputs": [
    {
     "name": "stdout",
     "output_type": "stream",
     "text": [
      "Enter the number:175\n",
      "175is a disarium number\n"
     ]
    }
   ],
   "source": [
    "def calculateLength(n):\n",
    "    length = 0\n",
    "    while (n!=0):\n",
    "        length = length+1\n",
    "        n = n//10\n",
    "    return length\n",
    "\n",
    "num = int(input(\"Enter the number:\"))\n",
    "rem = sum =0\n",
    "len =calculateLength(num)\n",
    "\n",
    "n = num\n",
    "while (num>0):\n",
    "    rem = num%10\n",
    "    sum = sum+int(rem**len)\n",
    "    num = num//10\n",
    "    len = len-1\n",
    "    \n",
    "if (sum==n):\n",
    "    print(str(n) + 'is a disarium number')\n",
    "else:\n",
    "    print(str(n) +' is not a disarium number')"
   ]
  },
  {
   "cell_type": "markdown",
   "id": "688c60c2",
   "metadata": {},
   "source": [
    "# 2.\tWrite a Python program to print all disarium numbers between 1 to 100?"
   ]
  },
  {
   "cell_type": "code",
   "execution_count": 2,
   "id": "037b1993",
   "metadata": {},
   "outputs": [
    {
     "name": "stdout",
     "output_type": "stream",
     "text": [
      "disarium number between 1 to 100 \n",
      "1\n",
      "2\n",
      "3\n",
      "4\n",
      "5\n",
      "6\n",
      "7\n",
      "8\n",
      "9\n",
      "89\n"
     ]
    }
   ],
   "source": [
    "def calculateLength(n):\n",
    "    length = 0\n",
    "    while(n!=0):\n",
    "        length = length+1\n",
    "        n = n//10\n",
    "    return length\n",
    "\n",
    "def sumOfDigits(num):\n",
    "    rem = sum = 0\n",
    "    len = calculateLength(num)\n",
    "    while num>0:\n",
    "        rem = num % 10\n",
    "        sum = sum + (rem**len)\n",
    "        num = num//10\n",
    "        len = len-1\n",
    "    return sum\n",
    "    \n",
    "print(\"disarium number between 1 to 100 \")\n",
    "for i in range(1,100):\n",
    "    result = sumOfDigits(i)\n",
    "    \n",
    "    if(result == i):\n",
    "        print(i)"
   ]
  },
  {
   "cell_type": "markdown",
   "id": "05687412",
   "metadata": {},
   "source": [
    "# 3.\tWrite a Python program to check if the given number is Happy Number?"
   ]
  },
  {
   "cell_type": "code",
   "execution_count": 3,
   "id": "9d8adaf1",
   "metadata": {},
   "outputs": [
    {
     "name": "stdout",
     "output_type": "stream",
     "text": [
      "Enter the number:62\n",
      "62is not a happy number \n"
     ]
    }
   ],
   "source": [
    "def isHappyNumber(num):\n",
    "    rem = sum = 0\n",
    "    \n",
    "    while num > 0:\n",
    "        rem = num%10\n",
    "        sum = sum + (rem*rem)\n",
    "        num = num //10\n",
    "    return sum\n",
    "\n",
    "num =int(input(\"Enter the number:\"))\n",
    "result = num\n",
    "\n",
    "while (result != 1 and result != 4):\n",
    "    result = isHappyNumber(result)\n",
    "    \n",
    "if (result == 1):\n",
    "    print(str(num) + \"is a happy number \")\n",
    "elif(result==4):\n",
    "    print(str(num) + \"is not a happy number \")"
   ]
  },
  {
   "cell_type": "markdown",
   "id": "b0f0cf76",
   "metadata": {},
   "source": [
    "# 4.\tWrite a Python program to print all happy numbers between 1 and 100?"
   ]
  },
  {
   "cell_type": "code",
   "execution_count": 4,
   "id": "1cfc6684",
   "metadata": {},
   "outputs": [
    {
     "name": "stdout",
     "output_type": "stream",
     "text": [
      "all happy numbers between 1 and 100\n",
      "1\n",
      "7\n",
      "10\n",
      "13\n",
      "19\n",
      "23\n",
      "28\n",
      "31\n",
      "32\n",
      "44\n",
      "49\n",
      "68\n",
      "70\n",
      "79\n",
      "82\n",
      "86\n",
      "91\n",
      "94\n",
      "97\n"
     ]
    }
   ],
   "source": [
    "def allHappyNumbers(num):\n",
    "    rem = sum = 0\n",
    "    \n",
    "    while num >0:\n",
    "        rem = num%10\n",
    "        sum = sum+(rem*rem)\n",
    "        num = num//10\n",
    "    return sum\n",
    "\n",
    "print(\"all happy numbers between 1 and 100\")\n",
    "\n",
    "for i in range(1,100):\n",
    "    result = i\n",
    "    \n",
    "    while (result != 1 and result != 4):\n",
    "        result = allHappyNumbers(result)\n",
    "    if result == 1 :\n",
    "        print(i)\n",
    "        "
   ]
  },
  {
   "cell_type": "markdown",
   "id": "e070235b",
   "metadata": {},
   "source": [
    "# 5.\tWrite a Python program to determine whether the given number is a Harshad Number?"
   ]
  },
  {
   "cell_type": "code",
   "execution_count": 5,
   "id": "aa2a15f1",
   "metadata": {},
   "outputs": [
    {
     "name": "stdout",
     "output_type": "stream",
     "text": [
      "Enter the number :98\n",
      "the given number is not a Harshad Number\n"
     ]
    }
   ],
   "source": [
    "num = int(input(\"Enter the number :\"))\n",
    "rem = sum = 0\n",
    "n = num\n",
    "while num > 0 :\n",
    "    rem = num % 10\n",
    "    sum = sum + rem\n",
    "    num = num//10\n",
    "     \n",
    "if n%sum == 0 :\n",
    "    print(\"the given number is a Harshad Number\")\n",
    "else:\n",
    "    print(\"the given number is not a Harshad Number\")\n"
   ]
  },
  {
   "cell_type": "markdown",
   "id": "dc9c7eb0",
   "metadata": {},
   "source": [
    "# 6.\tWrite a Python program to print all pronic numbers between 1 and 100?"
   ]
  },
  {
   "cell_type": "code",
   "execution_count": 6,
   "id": "1f050e54",
   "metadata": {},
   "outputs": [
    {
     "name": "stdout",
     "output_type": "stream",
     "text": [
      "all pronic numbers between 1 and 100\n",
      "2\n",
      "6\n",
      "12\n",
      "20\n",
      "30\n",
      "42\n",
      "56\n",
      "72\n",
      "90\n"
     ]
    }
   ],
   "source": [
    "def isPronicNumber(num):\n",
    "    flag = False\n",
    "    \n",
    "    for j in range(1,num+1):\n",
    "        if j*(j+1)== num:\n",
    "            flag = True\n",
    "            break\n",
    "    return flag\n",
    "\n",
    "print(\"all pronic numbers between 1 and 100\")\n",
    "for i in range(1,101):\n",
    "    if(isPronicNumber(i)):\n",
    "        print(i)"
   ]
  },
  {
   "cell_type": "code",
   "execution_count": null,
   "id": "dc9ba289",
   "metadata": {},
   "outputs": [],
   "source": []
  }
 ],
 "metadata": {
  "kernelspec": {
   "display_name": "Python 3 (ipykernel)",
   "language": "python",
   "name": "python3"
  },
  "language_info": {
   "codemirror_mode": {
    "name": "ipython",
    "version": 3
   },
   "file_extension": ".py",
   "mimetype": "text/x-python",
   "name": "python",
   "nbconvert_exporter": "python",
   "pygments_lexer": "ipython3",
   "version": "3.8.8"
  }
 },
 "nbformat": 4,
 "nbformat_minor": 5
}
