{
 "cells": [
  {
   "cell_type": "markdown",
   "id": "bd7f3361",
   "metadata": {},
   "source": [
    "# 1. Write a Python program to Extract Unique values dictionary values?"
   ]
  },
  {
   "cell_type": "code",
   "execution_count": 4,
   "id": "2781f2d5",
   "metadata": {},
   "outputs": [
    {
     "name": "stdout",
     "output_type": "stream",
     "text": [
      "The original dictionary is : {'abhi': [1, 2, 3, 4], 'is': [5, 6, 7, 8], 'good': [9, 10, 11]}\n",
      "The unique values list is : [1, 2, 3, 4, 5, 6, 7, 8, 9, 10, 11]\n"
     ]
    }
   ],
   "source": [
    "my_dict = {'abhi': [1,2,3,4],\n",
    "       'is': [5,6,7,8],\n",
    "       'good': [9,10,11]}\n",
    "print(\"The original dictionary is : \" + str(my_dict))\n",
    "\n",
    "res = list(sorted({ele for val in my_dict.values() for ele in val}))\n",
    "\n",
    "print(\"The unique values list is : \" + str(res))"
   ]
  },
  {
   "cell_type": "markdown",
   "id": "51ff0e74",
   "metadata": {},
   "source": [
    "# 2. Write a Python program to find the sum of all items in a dictionary?"
   ]
  },
  {
   "cell_type": "code",
   "execution_count": 3,
   "id": "9a36d9e3",
   "metadata": {},
   "outputs": [
    {
     "name": "stdout",
     "output_type": "stream",
     "text": [
      "sum : 600\n"
     ]
    }
   ],
   "source": [
    "def returnsum(my_dict):\n",
    "    \n",
    "    list = []\n",
    "    for i in my_dict:\n",
    "        list.append(my_dict[i])\n",
    "        \n",
    "    final = sum(list)\n",
    "        \n",
    "    return final\n",
    "    \n",
    "dict = {'abhi' : 100, 'abinash' : 200, 'xy':300}\n",
    "print(\"sum :\", returnsum(dict))"
   ]
  },
  {
   "cell_type": "markdown",
   "id": "6e0d4157",
   "metadata": {},
   "source": [
    "# 3.\tWrite a Python program to Merging two Dictionaries?"
   ]
  },
  {
   "cell_type": "code",
   "execution_count": 2,
   "id": "4e0be57d",
   "metadata": {},
   "outputs": [
    {
     "name": "stdout",
     "output_type": "stream",
     "text": [
      "None\n",
      "{'c': [6, 7, 8, 9, 10], 'd': [13, 14, 15, 16, 17], 'a': [1, 2, 3, 4, 5], 'b': [11, 23, 45, 67, 12]}\n"
     ]
    }
   ],
   "source": [
    "def Merge(dict1,dict2):\n",
    "    return (dict2.update(dict1))\n",
    "dict1 = {'a':[1,2,3,4,5],'b':[11,23,45,67,12]}\n",
    "dict2 = {'c':[6,7,8,9,10],'d':[13,14,15,16,17]}\n",
    "\n",
    "print(Merge(dict1,dict2))\n",
    "print(dict2)"
   ]
  },
  {
   "cell_type": "markdown",
   "id": "7dd639b6",
   "metadata": {},
   "source": [
    "# 4. Write a Python program to convert key-values list to flat dictionary?"
   ]
  },
  {
   "cell_type": "code",
   "execution_count": 1,
   "id": "e98b9e5a",
   "metadata": {},
   "outputs": [
    {
     "name": "stdout",
     "output_type": "stream",
     "text": [
      "The original dictionary is : {'month': [1, 2, 3], 'name': ['Jan', 'Feb', 'March']}\n",
      "Flattened dictionary : {1: 'Jan', 2: 'Feb', 3: 'March'}\n"
     ]
    }
   ],
   "source": [
    "from itertools import product\n",
    "\n",
    "test_dict = {'month' : [1, 2, 3], 'name' : ['Jan', 'Feb', 'March']}\n",
    "\n",
    "print(\"The original dictionary is : \" + str(test_dict))\n",
    "\n",
    "res = dict(zip(test_dict['month'], test_dict['name']))\n",
    "\n",
    "print(\"Flattened dictionary : \" + str(res))\n"
   ]
  },
  {
   "cell_type": "markdown",
   "id": "0563fd8a",
   "metadata": {},
   "source": [
    "# 5. Write a Python program to insertion at the beginning in OrderedDict?"
   ]
  },
  {
   "cell_type": "code",
   "execution_count": 5,
   "id": "3685e6e5",
   "metadata": {},
   "outputs": [
    {
     "name": "stdout",
     "output_type": "stream",
     "text": [
      "In Ordered Dictionary : OrderedDict([('manjeet', '3'), ('akshat', '1'), ('nikhil', '2')])\n"
     ]
    }
   ],
   "source": [
    "from collections import OrderedDict\n",
    "\n",
    "dict = OrderedDict([('akshat', '1'), ('nikhil', '2')])\n",
    "\n",
    "dict.update({'manjeet':'3'})\n",
    "\n",
    "dict.move_to_end('manjeet', last = False)\n",
    "\n",
    "print (\"In Ordered Dictionary : \"+str(dict))\n"
   ]
  },
  {
   "cell_type": "markdown",
   "id": "43305be9",
   "metadata": {},
   "source": [
    "# 6. Write a Python program to check order of character in string using OrderedDict()?"
   ]
  },
  {
   "cell_type": "code",
   "execution_count": 6,
   "id": "c778c90b",
   "metadata": {},
   "outputs": [
    {
     "name": "stdout",
     "output_type": "stream",
     "text": [
      "The order of pattern is correct\n"
     ]
    }
   ],
   "source": [
    "from collections import OrderedDict\n",
    "\n",
    "def checkOrder(input, pattern):\n",
    "    dict = OrderedDict.fromkeys(input)\n",
    "    ptrlen = 0\n",
    "    for key,value in dict.items(): \n",
    "        if (key == pattern[ptrlen]): \n",
    "            ptrlen = ptrlen + 1\n",
    "            \n",
    "        if (ptrlen == (len(pattern))): \n",
    "            return \"The order of pattern is correct\"\n",
    "        \n",
    "    return \"The order of pattern is incorrect\"\n",
    "\n",
    "if __name__ == \"__main__\": \n",
    "    input = 'engineers rock'\n",
    "    pattern = 'er'\n",
    "    print (checkOrder(input,pattern))"
   ]
  },
  {
   "cell_type": "markdown",
   "id": "44cfe264",
   "metadata": {},
   "source": [
    "# 6. Write a Python program to sort Python Dictionaries by Key or Value?"
   ]
  },
  {
   "cell_type": "code",
   "execution_count": 7,
   "id": "b5962fb7",
   "metadata": {},
   "outputs": [
    {
     "name": "stdout",
     "output_type": "stream",
     "text": [
      "Sort Dictionaries by Key or Value :-\n",
      "\n",
      "key_value {2: 56, 1: 2, 5: 12, 4: 24, 6: 18, 3: 323}\n",
      "1 2 3 4 5 6 "
     ]
    }
   ],
   "source": [
    "def dictionairy():\n",
    "    key_value = {}\n",
    "    \n",
    "    key_value[2] = 56\n",
    "    key_value[1] = 2\n",
    "    key_value[5] = 12\n",
    "    key_value[4] = 24\n",
    "    key_value[6] = 18\n",
    "    key_value[3] = 323\n",
    "    \n",
    "    print(\"Sort Dictionaries by Key or Value :-\\n\")\n",
    " \n",
    "    print(\"key_value\", key_value)\n",
    "    \n",
    "    for i in sorted(key_value.keys()):\n",
    "        print(i, end=\" \")\n",
    "        \n",
    "def main():\n",
    "    dictionairy()\n",
    "if __name__ == \"__main__\":\n",
    "    main()"
   ]
  },
  {
   "cell_type": "code",
   "execution_count": null,
   "id": "9add34f3",
   "metadata": {},
   "outputs": [],
   "source": []
  }
 ],
 "metadata": {
  "kernelspec": {
   "display_name": "Python 3 (ipykernel)",
   "language": "python",
   "name": "python3"
  },
  "language_info": {
   "codemirror_mode": {
    "name": "ipython",
    "version": 3
   },
   "file_extension": ".py",
   "mimetype": "text/x-python",
   "name": "python",
   "nbconvert_exporter": "python",
   "pygments_lexer": "ipython3",
   "version": "3.8.8"
  }
 },
 "nbformat": 4,
 "nbformat_minor": 5
}
