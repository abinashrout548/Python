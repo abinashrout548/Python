{
 "cells": [
  {
   "cell_type": "code",
   "execution_count": null,
   "id": "064f5693",
   "metadata": {},
   "outputs": [],
   "source": []
  },
  {
   "cell_type": "markdown",
   "id": "ab6c396e",
   "metadata": {},
   "source": [
    "# Q._2. What is the difference between string and variable?"
   ]
  },
  {
   "cell_type": "markdown",
   "id": "4e122467",
   "metadata": {},
   "source": [
    " A = \"What is the difference between string and variable?\"\n",
    "\n",
    "Here A is a Varible whre we store the strint/types of data and (\"What is the difference between string and variable?\") is the string data type."
   ]
  },
  {
   "cell_type": "markdown",
   "id": "bb5bc0b2",
   "metadata": {},
   "source": [
    "# Q._3.Describe three different data types."
   ]
  },
  {
   "cell_type": "raw",
   "id": "f81582c7",
   "metadata": {},
   "source": [
    "List: the list is used for storing multiple data items in a single variable.\n",
    "\n",
    "Integer: integer can store only numerical values.\n",
    "\n",
    "Float: float can store only floating values such as 233.33, 22.2, etc."
   ]
  },
  {
   "cell_type": "markdown",
   "id": "35dda9ef",
   "metadata": {},
   "source": [
    "# Q._4.What is an expression made up of? What do all expressions do?"
   ]
  },
  {
   "cell_type": "raw",
   "id": "b7739b9c",
   "metadata": {},
   "source": [
    "An expression is a construct made up of variables, operators, and method invocations, which are constructed according to the syntax of the language, that evaluates to a single value."
   ]
  },
  {
   "cell_type": "markdown",
   "id": "5f4810be",
   "metadata": {},
   "source": [
    "# Q._5.This assignment statements, like spam = 10. What is the difference between an expression and a statement?"
   ]
  },
  {
   "cell_type": "raw",
   "id": "073548a9",
   "metadata": {},
   "source": [
    "Expression is made up of values, containers, and mathematical operators (operands) and the statement is just like a command that a python interpreter executes like print."
   ]
  },
  {
   "cell_type": "markdown",
   "id": "3eccc6e5",
   "metadata": {},
   "source": [
    "Q._6. After running the following code, what does the variable bacon contain?\n",
    "bacon = 22\n",
    "bacon + 1"
   ]
  },
  {
   "cell_type": "code",
   "execution_count": 5,
   "id": "13e17b0b",
   "metadata": {},
   "outputs": [
    {
     "data": {
      "text/plain": [
       "23"
      ]
     },
     "execution_count": 5,
     "metadata": {},
     "output_type": "execute_result"
    }
   ],
   "source": [
    "bacon = 22\n",
    "bacon+1"
   ]
  },
  {
   "cell_type": "markdown",
   "id": "70cef954",
   "metadata": {},
   "source": [
    "Q._7. What should the values of the following two terms be?\n",
    "&#39;spam&#39; + &#39;spamspam&#39;\n",
    "\n",
    "&#39;spam&#39; * 3"
   ]
  },
  {
   "cell_type": "code",
   "execution_count": 6,
   "id": "645bef12",
   "metadata": {},
   "outputs": [
    {
     "data": {
      "text/plain": [
       "'spamspamspam'"
      ]
     },
     "execution_count": 6,
     "metadata": {},
     "output_type": "execute_result"
    }
   ],
   "source": [
    "\"spam\"+\"spamspam\"\n",
    "\"spam\"*3"
   ]
  },
  {
   "cell_type": "markdown",
   "id": "0b09b546",
   "metadata": {},
   "source": [
    "Q._8. Why is eggs a valid variable name while 100 is invalid?"
   ]
  },
  {
   "cell_type": "raw",
   "id": "034f27a8",
   "metadata": {},
   "source": [
    "because we can't start giving variable an integer name. if we, we should begin with, a string-like alphabet name then integer. A100 or eggs100 is valid"
   ]
  },
  {
   "cell_type": "markdown",
   "id": "203b50da",
   "metadata": {},
   "source": [
    "Q._9. What three functions can be used to get the integer, floating-point number, or string version of a value?"
   ]
  },
  {
   "cell_type": "raw",
   "id": "591f59b1",
   "metadata": {},
   "source": [
    "int(), float(), str()."
   ]
  },
  {
   "cell_type": "markdown",
   "id": "33ac3246",
   "metadata": {},
   "source": [
    "Q._10. Why does this expression cause an error? How can you fix it?\n",
    "\n",
    "'I have eaten' + 99 + 'burritos' "
   ]
  },
  {
   "cell_type": "raw",
   "id": "7648c8c8",
   "metadata": {},
   "source": [
    "Because 99 is an integer it cannot be concatenated with strings, if we have to concatenate it we need to do typecasting."
   ]
  },
  {
   "cell_type": "code",
   "execution_count": null,
   "id": "82f279da",
   "metadata": {},
   "outputs": [],
   "source": []
  }
 ],
 "metadata": {
  "kernelspec": {
   "display_name": "Python 3 (ipykernel)",
   "language": "python",
   "name": "python3"
  },
  "language_info": {
   "codemirror_mode": {
    "name": "ipython",
    "version": 3
   },
   "file_extension": ".py",
   "mimetype": "text/x-python",
   "name": "python",
   "nbconvert_exporter": "python",
   "pygments_lexer": "ipython3",
   "version": "3.8.8"
  }
 },
 "nbformat": 4,
 "nbformat_minor": 5
}
