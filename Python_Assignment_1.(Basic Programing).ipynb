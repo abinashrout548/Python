{
 "cells": [
  {
   "cell_type": "code",
   "execution_count": 1,
   "id": "25750c41",
   "metadata": {},
   "outputs": [
    {
     "name": "stdout",
     "output_type": "stream",
     "text": [
      "Hello Python\n"
     ]
    }
   ],
   "source": [
    "##_Q.1.\tWrite a Python program to print \"Hello Python\"?\n",
    "print(\"Hello Python\")\n"
   ]
  },
  {
   "cell_type": "code",
   "execution_count": 2,
   "id": "6b66e4ef",
   "metadata": {},
   "outputs": [
    {
     "name": "stdout",
     "output_type": "stream",
     "text": [
      "11\n",
      "0.8333333333333334\n"
     ]
    }
   ],
   "source": [
    "##_Q.2.\tWrite a Python program to do arithmetical operations addition and division.?\n",
    "a = 5\n",
    "b = 6\n",
    "print(a+b)\n",
    "print(a/b)"
   ]
  },
  {
   "cell_type": "code",
   "execution_count": 3,
   "id": "22e9e834",
   "metadata": {},
   "outputs": [
    {
     "name": "stdout",
     "output_type": "stream",
     "text": [
      "Enter the first side:5\n",
      "Enter the second side:6\n",
      "Enter the third side:7\n",
      "9.0\n",
      "14.696938456699069\n"
     ]
    }
   ],
   "source": [
    "##_Q.3.\tWrite a Python program to find the area of a triangle?\n",
    "a = float(input(\"Enter the first side:\"))\n",
    "b = float(input(\"Enter the second side:\"))\n",
    "c = float(input(\"Enter the third side:\"))\n",
    "s = (a+b+c)/2 ## calculate the semi-perimeter\n",
    "area = (s*(s-a)*(s-b)*(s-c))**0.5 ## calculate the area\n",
    "print(s)\n",
    "print(area)"
   ]
  },
  {
   "cell_type": "code",
   "execution_count": 4,
   "id": "a6b0252d",
   "metadata": {},
   "outputs": [
    {
     "name": "stdout",
     "output_type": "stream",
     "text": [
      "Enter the value of A:5\n",
      "Enter the value of B:6\n",
      "the value of A after swapint: 6\n",
      "the value of b after swaping: 5\n"
     ]
    }
   ],
   "source": [
    "#_Q.4.\tWrite a Python program to swap two variables?\n",
    "A = int(input('Enter the value of A:'))\n",
    "B = int(input(\"Enter the value of B:\"))\n",
    "print(\"the value of A after swapint:\",B)\n",
    "print('the value of b after swaping:',A)"
   ]
  },
  {
   "cell_type": "code",
   "execution_count": 5,
   "id": "5fbf6297",
   "metadata": {},
   "outputs": [
    {
     "name": "stdout",
     "output_type": "stream",
     "text": [
      "1\n"
     ]
    }
   ],
   "source": [
    "##_Q.5.\tWrite a Python program to generate a random number?\n",
    "import random\n",
    "print(random.randint(0,100))"
   ]
  }
 ],
 "metadata": {
  "kernelspec": {
   "display_name": "Python 3",
   "language": "python",
   "name": "python3"
  },
  "language_info": {
   "codemirror_mode": {
    "name": "ipython",
    "version": 3
   },
   "file_extension": ".py",
   "mimetype": "text/x-python",
   "name": "python",
   "nbconvert_exporter": "python",
   "pygments_lexer": "ipython3",
   "version": "3.8.8"
  }
 },
 "nbformat": 4,
 "nbformat_minor": 5
}
