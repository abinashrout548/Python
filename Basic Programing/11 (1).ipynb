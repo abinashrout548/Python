{
 "cells": [
  {
   "cell_type": "markdown",
   "id": "6e645c0d",
   "metadata": {},
   "source": [
    "# 1.\tWrite a Python program to find words which are greater than given length k?"
   ]
  },
  {
   "cell_type": "code",
   "execution_count": 1,
   "id": "6adea059",
   "metadata": {},
   "outputs": [
    {
     "name": "stdout",
     "output_type": "stream",
     "text": [
      "Python\n",
      "program\n",
      "find\n",
      "words\n",
      "which\n",
      "greater\n",
      "than\n",
      "given\n",
      "length\n"
     ]
    }
   ],
   "source": [
    "def word_k(k , str):\n",
    "    word = str.split(\" \")\n",
    "    for i in word:\n",
    "        if len(i) > k:\n",
    "            print(i)\n",
    "k = 3\n",
    "str = (\" Python program to find words which are greater than given length k \")\n",
    "word_k(k, str)"
   ]
  },
  {
   "cell_type": "markdown",
   "id": "c8244db2",
   "metadata": {},
   "source": [
    "# 2.\tWrite a Python program for removing i-th character from a string?"
   ]
  },
  {
   "cell_type": "code",
   "execution_count": 2,
   "id": "e9a90582",
   "metadata": {},
   "outputs": [
    {
     "name": "stdout",
     "output_type": "stream",
     "text": [
      "Python rogram\n"
     ]
    }
   ],
   "source": [
    "def remove_Character(s, i):\n",
    "    a = s[ : i]\n",
    "    b = s[i + 1 :]\n",
    "    return a+b\n",
    "str = \"Python program\"\n",
    "i = 8\n",
    "print(remove_Character(str, i-1))"
   ]
  },
  {
   "cell_type": "markdown",
   "id": "634da740",
   "metadata": {},
   "source": [
    "# 3.\tWrite a Python program to split and join a string?"
   ]
  },
  {
   "cell_type": "code",
   "execution_count": 3,
   "id": "d2b026e7",
   "metadata": {},
   "outputs": [
    {
     "name": "stdout",
     "output_type": "stream",
     "text": [
      "['Python', 'program', 'to', 'split']\n",
      "Python-program-to-split\n"
     ]
    }
   ],
   "source": [
    "def split_string(string):\n",
    "    list_string = string.split(' ')\n",
    "    return list_string\n",
    "\n",
    "def join_string(list_string):\n",
    "    string = '-'.join(list_string)\n",
    "    return string\n",
    "\n",
    "if __name__ == '__main__':\n",
    "    string = \"Python program to split\"\n",
    "    \n",
    "    list_string = split_string(string)\n",
    "    print(list_string)\n",
    "    \n",
    "    new_string = join_string(list_string)\n",
    "    print(new_string)"
   ]
  },
  {
   "cell_type": "markdown",
   "id": "a7e2d730",
   "metadata": {},
   "source": [
    "# 4.\tWrite a Python to check if a given string is binary string or not?"
   ]
  },
  {
   "cell_type": "code",
   "execution_count": 4,
   "id": "302d5351",
   "metadata": {},
   "outputs": [
    {
     "name": "stdout",
     "output_type": "stream",
     "text": [
      "yes string is binary \n"
     ]
    }
   ],
   "source": [
    "def check(string):\n",
    "    a = set(string)\n",
    "    s = {'0','1'}\n",
    "    \n",
    "    if s == a or a == {'0','1'} or a == {'1'}:\n",
    "        print(\"yes string is binary \")\n",
    "        \n",
    "    else:\n",
    "        print(\"no string is not binary \")\n",
    "        \n",
    "if __name__ == '__main__':\n",
    "    string = '10101000011'\n",
    "    check(string)"
   ]
  },
  {
   "cell_type": "markdown",
   "id": "865c7df0",
   "metadata": {},
   "source": [
    "# 5.\tWrite a Python program to find uncommon words from two Strings?"
   ]
  },
  {
   "cell_type": "code",
   "execution_count": 5,
   "id": "e44caaec",
   "metadata": {},
   "outputs": [
    {
     "name": "stdout",
     "output_type": "stream",
     "text": [
      "['is', 'good', 'for']\n"
     ]
    }
   ],
   "source": [
    "def uncommonWords(A, B):\n",
    "    \n",
    "    count = {}\n",
    "    for word in A.split():\n",
    "        count[word] = count.get(word, 0) + 1\n",
    "        \n",
    "    for word in B.split():\n",
    "        count[word] = count.get(word, 0) + 1\n",
    "        \n",
    "    return [word for word in count if count[word] == 1]\n",
    "\n",
    "A = \"Python program\"\n",
    "B = \"Python is good for program\"\n",
    "\n",
    "print(uncommonWords(A, B))"
   ]
  },
  {
   "cell_type": "markdown",
   "id": "5bbf487f",
   "metadata": {},
   "source": [
    "# 6.\tWrite a Python to find all duplicate characters in string?"
   ]
  },
  {
   "cell_type": "code",
   "execution_count": 2,
   "id": "9ef63591",
   "metadata": {},
   "outputs": [
    {
     "name": "stdout",
     "output_type": "stream",
     "text": [
      "Enter the string : duplicate characters\n",
      "t : 2 c : 3 a : 3 r : 2 e : 2 "
     ]
    }
   ],
   "source": [
    "def find_duplicate():\n",
    "    x = input(\"Enter the string : \")\n",
    "    \n",
    "    for char in set(x):\n",
    "        counts = x.count(char)\n",
    "        \n",
    "        while counts > 1:\n",
    "            print(char,\":\", counts, end=' ')\n",
    "            break\n",
    "            \n",
    "find_duplicate()"
   ]
  },
  {
   "cell_type": "markdown",
   "id": "e9742dc5",
   "metadata": {},
   "source": [
    "# 7.\tWrite a Python Program to check if a string contains any special character?"
   ]
  },
  {
   "cell_type": "code",
   "execution_count": 26,
   "id": "6aadbb73",
   "metadata": {},
   "outputs": [
    {
     "name": "stdout",
     "output_type": "stream",
     "text": [
      "string contains special character \n"
     ]
    }
   ],
   "source": [
    "import re \n",
    "\n",
    "def run(string):\n",
    "     regex = re.compile('[@_!$%^&*?></]')\n",
    "     \n",
    "     if(regex.search(string) == None):\n",
    "        print(\"no string doesn't contains special character\")\n",
    "        \n",
    "    \n",
    "     else :\n",
    "        print(\"string contains special character \")\n",
    "\n",
    "if __name__ == '__main__':\n",
    "    string = ('Write a Python Program to $check if a @ string contains any special character ')\n",
    "    run(string)"
   ]
  },
  {
   "cell_type": "code",
   "execution_count": null,
   "id": "a63b31d9",
   "metadata": {},
   "outputs": [],
   "source": []
  }
 ],
 "metadata": {
  "kernelspec": {
   "display_name": "Python 3 (ipykernel)",
   "language": "python",
   "name": "python3"
  },
  "language_info": {
   "codemirror_mode": {
    "name": "ipython",
    "version": 3
   },
   "file_extension": ".py",
   "mimetype": "text/x-python",
   "name": "python",
   "nbconvert_exporter": "python",
   "pygments_lexer": "ipython3",
   "version": "3.8.8"
  }
 },
 "nbformat": 4,
 "nbformat_minor": 5
}
